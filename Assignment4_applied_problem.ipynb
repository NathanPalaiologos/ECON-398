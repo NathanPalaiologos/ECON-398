{
 "cells": [
  {
   "cell_type": "code",
   "execution_count": 1,
   "metadata": {
    "vscode": {
     "languageId": "r"
    }
   },
   "outputs": [
    {
     "name": "stderr",
     "output_type": "stream",
     "text": [
      "Warning message:\n",
      "\"package 'tidyverse' was built under R version 4.4.2\"\n",
      "Warning message:\n",
      "\"package 'ggplot2' was built under R version 4.4.2\"\n",
      "Warning message:\n",
      "\"package 'dplyr' was built under R version 4.4.2\"\n",
      "── \u001b[1mAttaching core tidyverse packages\u001b[22m ──────────────────────── tidyverse 2.0.0 ──\n",
      "\u001b[32m✔\u001b[39m \u001b[34mdplyr    \u001b[39m 1.1.4     \u001b[32m✔\u001b[39m \u001b[34mreadr    \u001b[39m 2.1.5\n",
      "\u001b[32m✔\u001b[39m \u001b[34mforcats  \u001b[39m 1.0.0     \u001b[32m✔\u001b[39m \u001b[34mstringr  \u001b[39m 1.5.1\n",
      "\u001b[32m✔\u001b[39m \u001b[34mggplot2  \u001b[39m 3.5.1     \u001b[32m✔\u001b[39m \u001b[34mtibble   \u001b[39m 3.2.1\n",
      "\u001b[32m✔\u001b[39m \u001b[34mlubridate\u001b[39m 1.9.3     \u001b[32m✔\u001b[39m \u001b[34mtidyr    \u001b[39m 1.3.1\n",
      "\u001b[32m✔\u001b[39m \u001b[34mpurrr    \u001b[39m 1.0.2     \n",
      "── \u001b[1mConflicts\u001b[22m ────────────────────────────────────────── tidyverse_conflicts() ──\n",
      "\u001b[31m✖\u001b[39m \u001b[34mdplyr\u001b[39m::\u001b[32mfilter()\u001b[39m masks \u001b[34mstats\u001b[39m::filter()\n",
      "\u001b[31m✖\u001b[39m \u001b[34mdplyr\u001b[39m::\u001b[32mlag()\u001b[39m    masks \u001b[34mstats\u001b[39m::lag()\n",
      "\u001b[36mℹ\u001b[39m Use the conflicted package (\u001b[3m\u001b[34m<http://conflicted.r-lib.org/>\u001b[39m\u001b[23m) to force all conflicts to become errors\n",
      "\n",
      "Please cite as: \n",
      "\n",
      "\n",
      " Hlavac, Marek (2022). stargazer: Well-Formatted Regression and Summary Statistics Tables.\n",
      "\n",
      " R package version 5.2.3. https://CRAN.R-project.org/package=stargazer \n",
      "\n",
      "\n",
      "Warning message:\n",
      "\"package 'kableExtra' was built under R version 4.4.2\"\n",
      "\n",
      "Attaching package: 'kableExtra'\n",
      "\n",
      "\n",
      "The following object is masked from 'package:dplyr':\n",
      "\n",
      "    group_rows\n",
      "\n",
      "\n"
     ]
    }
   ],
   "source": [
    "library(tidyverse)\n",
    "library(ggplot2)\n",
    "library(haven)\n",
    "library(stargazer)\n",
    "library(broom)\n",
    "library(knitr)\n",
    "library(kableExtra)"
   ]
  },
  {
   "cell_type": "code",
   "execution_count": 2,
   "metadata": {
    "vscode": {
     "languageId": "r"
    }
   },
   "outputs": [
    {
     "name": "stdout",
     "output_type": "stream",
     "text": [
      "Rows: 980,868\n",
      "Columns: 144\n",
      "$ ppsort           \u001b[3m\u001b[90m<dbl>\u001b[39m\u001b[23m 1, 2, 3, 4, 5, 6, 7, 8, 9, 10, 11, 12, 13, 14, 15, 16…\n",
      "$ aboid            \u001b[3m\u001b[90m<dbl+lbl>\u001b[39m\u001b[23m 6, 6, 1, 6, 6, 2, 6, 6, 6, 6, 6, 6, 6, 6, 6, 6, 6…\n",
      "$ agegrp           \u001b[3m\u001b[90m<dbl+lbl>\u001b[39m\u001b[23m 13, 11, 13, 16, 18, 16, 16, 16, 11, 12, 16, 13, 1…\n",
      "$ ageimm           \u001b[3m\u001b[90m<dbl+lbl>\u001b[39m\u001b[23m  7,  5, 99, 99, 99, 99, 99,  7, 99,  6, 99, 99,  …\n",
      "$ attsch           \u001b[3m\u001b[90m<dbl+lbl>\u001b[39m\u001b[23m 1, 1, 1, 1, 1, 1, 1, 1, 1, 1, 1, 1, 1, 1, 9, 2, 2…\n",
      "$ bfnmemb          \u001b[3m\u001b[90m<dbl+lbl>\u001b[39m\u001b[23m 0, 0, 0, 0, 0, 0, 0, 0, 0, 0, 0, 0, 0, 0, 0, 0, 0…\n",
      "$ bedrm            \u001b[3m\u001b[90m<dbl+lbl>\u001b[39m\u001b[23m 4, 3, 0, 4, 3, 4, 3, 4, 4, 4, 1, 4, 5, 2, 2, 2, 3…\n",
      "$ CFInc            \u001b[3m\u001b[90m<dbl+lbl>\u001b[39m\u001b[23m 30, 18,  7, 15, 13,  1, 10, 30, 25, 22,  9, 33, 2…\n",
      "$ CFInc_AT         \u001b[3m\u001b[90m<dbl+lbl>\u001b[39m\u001b[23m 27, 18,  7, 15, 13,  1, 10, 27, 24, 22,  9, 32, 2…\n",
      "$ cfstat           \u001b[3m\u001b[90m<dbl+lbl>\u001b[39m\u001b[23m 2, 2, 6, 2, 3, 7, 1, 1, 2, 2, 1, 2, 2, 1, 5, 5, 5…\n",
      "$ chdbn            \u001b[3m\u001b[90m<dbl>\u001b[39m\u001b[23m 88888888, 11500, 99999999, 99999999, 99999999, 999999…\n",
      "$ CIP2021          \u001b[3m\u001b[90m<dbl+lbl>\u001b[39m\u001b[23m  7,  8, 13, 10, 13, 13,  4,  4, 88, 13,  7,  5, 1…\n",
      "$ CIP2021_STEM_SUM \u001b[3m\u001b[90m<dbl+lbl>\u001b[39m\u001b[23m  3,  2, 11,  8, 11, 11,  6,  6, 88, 11,  3,  4, 1…\n",
      "$ cma              \u001b[3m\u001b[90m<dbl+lbl>\u001b[39m\u001b[23m 999, 505, 462, 999, 999, 999, 999, 535, 541, 559,…\n",
      "$ condo            \u001b[3m\u001b[90m<dbl+lbl>\u001b[39m\u001b[23m 0, 0, 0, 8, 0, 0, 0, 1, 0, 0, 0, 0, 0, 1, 0, 0, 0…\n",
      "$ COVID_ERB        \u001b[3m\u001b[90m<dbl>\u001b[39m\u001b[23m 99999999, 8100, 99999999, 99999999, 99999999, 9999999…\n",
      "$ cow              \u001b[3m\u001b[90m<dbl+lbl>\u001b[39m\u001b[23m 1, 3, 9, 9, 9, 9, 9, 9, 1, 4, 9, 1, 1, 5, 9, 9, 1…\n",
      "$ cqppb            \u001b[3m\u001b[90m<dbl>\u001b[39m\u001b[23m 99999999, 99999999, 99999999, 15000, 4100, 99999999, …\n",
      "$ CapGn            \u001b[3m\u001b[90m<dbl>\u001b[39m\u001b[23m 1.0e+08, 1.0e+08, 1.0e+08, 1.0e+08, 1.0e+08, 1.0e+08,…\n",
      "$ CfSize           \u001b[3m\u001b[90m<dbl+lbl>\u001b[39m\u001b[23m 4, 4, 1, 3, 2, 1, 2, 2, 6, 4, 2, 4, 3, 2, 3, 2, 3…\n",
      "$ ChldC            \u001b[3m\u001b[90m<dbl>\u001b[39m\u001b[23m 88888888, 99999999, 99999999, 99999999, 99999999, 999…\n",
      "$ CitOth           \u001b[3m\u001b[90m<dbl+lbl>\u001b[39m\u001b[23m 88, 15, 15, 88, 15, 15, 15,  4, 15,  4, 15, 15,  …\n",
      "$ Citizen          \u001b[3m\u001b[90m<dbl+lbl>\u001b[39m\u001b[23m 3, 2, 1, 1, 1, 1, 1, 2, 1, 2, 1, 1, 2, 1, 1, 1, 1…\n",
      "$ dist             \u001b[3m\u001b[90m<dbl+lbl>\u001b[39m\u001b[23m 9, 9, 9, 9, 9, 9, 9, 9, 4, 9, 9, 2, 1, 1, 9, 9, 6…\n",
      "$ dpgrsum          \u001b[3m\u001b[90m<dbl+lbl>\u001b[39m\u001b[23m 88,  2, 14, 88,  1, 14,  1,  1,  1,  1,  1,  1,  …\n",
      "$ dtype            \u001b[3m\u001b[90m<dbl+lbl>\u001b[39m\u001b[23m 1, 1, 2, 8, 1, 1, 1, 3, 1, 1, 2, 1, 1, 2, 2, 2, 1…\n",
      "$ EFDecile         \u001b[3m\u001b[90m<dbl+lbl>\u001b[39m\u001b[23m  9,  3,  1,  5,  2,  1,  1,  9,  4,  4,  1, 10,  …\n",
      "$ EFInc            \u001b[3m\u001b[90m<dbl+lbl>\u001b[39m\u001b[23m 33, 18,  7, 26, 13,  1, 10, 30, 25, 22,  9, 33, 2…\n",
      "$ EFInc_AT         \u001b[3m\u001b[90m<dbl+lbl>\u001b[39m\u001b[23m 31, 18,  7, 25, 13,  1, 10, 27, 24, 22,  9, 32, 2…\n",
      "$ eicbn            \u001b[3m\u001b[90m<dbl>\u001b[39m\u001b[23m 1e+08, 1e+08, 1e+08, 1e+08, 1e+08, 1e+08, 1e+08, 1e+0…\n",
      "$ ethder           \u001b[3m\u001b[90m<dbl+lbl>\u001b[39m\u001b[23m 88, 41,  1, 88,  3,  1, 59, 23, 59, 27,  5,  3, 3…\n",
      "$ EfDIMBM_2018     \u001b[3m\u001b[90m<dbl+lbl>\u001b[39m\u001b[23m 31, 18,  7, 25, 12,  1, 11, 28, 24, 22,  9, 32, 2…\n",
      "$ EfSize           \u001b[3m\u001b[90m<dbl+lbl>\u001b[39m\u001b[23m 6, 4, 1, 5, 2, 1, 2, 2, 6, 4, 2, 4, 3, 2, 3, 2, 3…\n",
      "$ EmpIn            \u001b[3m\u001b[90m<dbl>\u001b[39m\u001b[23m 7.6e+04, 1.2e+04, 1.0e+08, 1.0e+08, 1.0e+08, 1.0e+08,…\n",
      "$ fol              \u001b[3m\u001b[90m<dbl+lbl>\u001b[39m\u001b[23m 1, 1, 2, 1, 2, 1, 1, 1, 1, 1, 2, 1, 2, 2, 1, 1, 2…\n",
      "$ fptwk            \u001b[3m\u001b[90m<dbl+lbl>\u001b[39m\u001b[23m 1, 2, 9, 9, 9, 9, 9, 9, 1, 9, 9, 1, 1, 1, 9, 9, 2…\n",
      "$ Gender           \u001b[3m\u001b[90m<dbl+lbl>\u001b[39m\u001b[23m 2, 1, 1, 2, 2, 1, 1, 1, 2, 2, 2, 1, 2, 2, 1, 1, 1…\n",
      "$ genstat          \u001b[3m\u001b[90m<dbl+lbl>\u001b[39m\u001b[23m 8, 1, 4, 4, 4, 4, 4, 1, 3, 1, 4, 4, 1, 4, 4, 2, 4…\n",
      "$ GovtI            \u001b[3m\u001b[90m<dbl>\u001b[39m\u001b[23m 99999999, 9000, 16300, 1300, 2000, 1000, 900, 9999999…\n",
      "$ GTRfs            \u001b[3m\u001b[90m<dbl>\u001b[39m\u001b[23m 99999999, 20500, 16300, 16400, 22500, 1000, 4200, 460…\n",
      "$ HCORENEED_IND    \u001b[3m\u001b[90m<dbl+lbl>\u001b[39m\u001b[23m   0,   0, 100,   0,   0, 888, 100,   0,   0,   0,…\n",
      "$ hdgree           \u001b[3m\u001b[90m<dbl+lbl>\u001b[39m\u001b[23m  7,  7,  2,  5,  2,  2,  9, 12,  6,  2,  6,  9,  …\n",
      "$ HHInc            \u001b[3m\u001b[90m<dbl+lbl>\u001b[39m\u001b[23m 33, 18,  7, 26, 13, 25, 10, 30, 25, 22,  9, 33, 2…\n",
      "$ HHInc_AT         \u001b[3m\u001b[90m<dbl+lbl>\u001b[39m\u001b[23m 31, 18,  7, 25, 13, 22, 10, 27, 24, 22,  9, 32, 2…\n",
      "$ hhmrkinc         \u001b[3m\u001b[90m<dbl+lbl>\u001b[39m\u001b[23m 33, 14,  1, 19,  8, 20,  2, 30, 12, 20,  1, 33, 2…\n",
      "$ hhsize           \u001b[3m\u001b[90m<dbl+lbl>\u001b[39m\u001b[23m 6, 4, 1, 5, 2, 3, 2, 2, 6, 4, 2, 4, 3, 2, 3, 2, 3…\n",
      "$ hhtype           \u001b[3m\u001b[90m<dbl+lbl>\u001b[39m\u001b[23m 7, 2, 8, 7, 5, 3, 1, 1, 2, 2, 1, 2, 2, 1, 5, 5, 5…\n",
      "$ hlmosten         \u001b[3m\u001b[90m<dbl+lbl>\u001b[39m\u001b[23m 1, 1, 0, 1, 0, 1, 1, 0, 1, 1, 0, 1, 0, 0, 1, 1, 0…\n",
      "$ hlmostfr         \u001b[3m\u001b[90m<dbl+lbl>\u001b[39m\u001b[23m 0, 0, 1, 0, 1, 0, 0, 0, 0, 0, 1, 0, 0, 1, 0, 0, 1…\n",
      "$ hlmostno         \u001b[3m\u001b[90m<dbl+lbl>\u001b[39m\u001b[23m  1,  1,  1,  1,  1,  1,  1,  8,  1,  1,  1,  1,  …\n",
      "$ hlregen          \u001b[3m\u001b[90m<dbl+lbl>\u001b[39m\u001b[23m 0, 0, 0, 0, 0, 0, 0, 1, 0, 0, 0, 0, 0, 0, 0, 0, 0…\n",
      "$ hlregfr          \u001b[3m\u001b[90m<dbl+lbl>\u001b[39m\u001b[23m 0, 0, 0, 0, 0, 0, 0, 0, 0, 0, 0, 0, 1, 0, 0, 0, 0…\n",
      "$ hlregno          \u001b[3m\u001b[90m<dbl+lbl>\u001b[39m\u001b[23m 0, 0, 0, 0, 0, 0, 0, 0, 0, 1, 0, 0, 0, 0, 0, 0, 0…\n",
      "$ IMMCAT5          \u001b[3m\u001b[90m<dbl+lbl>\u001b[39m\u001b[23m 88, 22,  1,  1,  1,  1,  1, 22,  1, 21,  1,  1, 2…\n",
      "$ immstat          \u001b[3m\u001b[90m<dbl+lbl>\u001b[39m\u001b[23m 88,  2,  1,  1,  1,  1,  1,  2,  1,  2,  1,  1,  …\n",
      "$ IncTax           \u001b[3m\u001b[90m<dbl>\u001b[39m\u001b[23m 1.9e+04, 1.0e+03, 1.0e+08, 1.0e+00, 1.0e+08, 1.0e+08,…\n",
      "$ Invst            \u001b[3m\u001b[90m<dbl>\u001b[39m\u001b[23m 99999999, 99999999, 99999999, 99999999, 99999999, 999…\n",
      "$ jobperm          \u001b[3m\u001b[90m<dbl+lbl>\u001b[39m\u001b[23m 2, 1, 9, 9, 9, 9, 9, 9, 2, 1, 9, 2, 2, 1, 9, 9, 2…\n",
      "$ kol              \u001b[3m\u001b[90m<dbl+lbl>\u001b[39m\u001b[23m 1, 1, 2, 1, 2, 1, 1, 1, 1, 1, 3, 1, 2, 2, 1, 3, 3…\n",
      "$ lfact            \u001b[3m\u001b[90m<dbl+lbl>\u001b[39m\u001b[23m 88,  3, 14, 13, 13, 13, 14, 13,  1,  1, 13,  1,  …\n",
      "$ LICO_BT          \u001b[3m\u001b[90m<dbl+lbl>\u001b[39m\u001b[23m 1, 1, 2, 1, 1, 2, 1, 1, 1, 1, 2, 1, 1, 1, 2, 1, 1…\n",
      "$ LICO_AT          \u001b[3m\u001b[90m<dbl+lbl>\u001b[39m\u001b[23m 1, 1, 2, 1, 1, 2, 1, 1, 1, 1, 2, 1, 1, 1, 2, 1, 1…\n",
      "$ liprogtype       \u001b[3m\u001b[90m<dbl+lbl>\u001b[39m\u001b[23m 4, 4, 9, 4, 9, 4, 4, 4, 4, 4, 9, 4, 9, 9, 4, 2, 9…\n",
      "$ LI_ELIG_OML_U18  \u001b[3m\u001b[90m<dbl+lbl>\u001b[39m\u001b[23m 9, 9, 9, 9, 9, 9, 9, 9, 9, 9, 9, 9, 9, 9, 2, 2, 2…\n",
      "$ locstud          \u001b[3m\u001b[90m<dbl+lbl>\u001b[39m\u001b[23m 17, 16, 99,  9, 99, 99,  6, 14,  6, 99,  5,  6, 9…\n",
      "$ LOC_ST_RES       \u001b[3m\u001b[90m<dbl+lbl>\u001b[39m\u001b[23m 3, 3, 4, 1, 4, 4, 2, 3, 1, 4, 1, 1, 4, 4, 9, 4, 4…\n",
      "$ lstwrk           \u001b[3m\u001b[90m<dbl+lbl>\u001b[39m\u001b[23m 8, 3, 4, 1, 1, 1, 4, 1, 3, 3, 1, 3, 3, 3, 9, 4, 3…\n",
      "$ lwmosten         \u001b[3m\u001b[90m<dbl+lbl>\u001b[39m\u001b[23m 1, 1, 9, 9, 9, 9, 9, 9, 1, 1, 9, 1, 0, 0, 9, 9, 0…\n",
      "$ lwmostfr         \u001b[3m\u001b[90m<dbl+lbl>\u001b[39m\u001b[23m 0, 0, 9, 9, 9, 9, 9, 9, 0, 0, 9, 0, 1, 1, 9, 9, 1…\n",
      "$ lwmostno         \u001b[3m\u001b[90m<dbl+lbl>\u001b[39m\u001b[23m 0, 0, 9, 9, 9, 9, 9, 9, 0, 0, 9, 0, 0, 0, 9, 9, 0…\n",
      "$ lwregen          \u001b[3m\u001b[90m<dbl+lbl>\u001b[39m\u001b[23m 0, 0, 9, 9, 9, 9, 9, 9, 0, 0, 9, 0, 0, 0, 9, 9, 0…\n",
      "$ lwregfr          \u001b[3m\u001b[90m<dbl+lbl>\u001b[39m\u001b[23m 0, 0, 9, 9, 9, 9, 9, 9, 0, 0, 9, 0, 0, 0, 9, 9, 0…\n",
      "$ lwregno          \u001b[3m\u001b[90m<dbl+lbl>\u001b[39m\u001b[23m 0, 0, 9, 9, 9, 9, 9, 9, 0, 0, 9, 0, 0, 0, 9, 9, 0…\n",
      "$ LoLIMA           \u001b[3m\u001b[90m<dbl+lbl>\u001b[39m\u001b[23m 1, 1, 2, 1, 1, 1, 2, 1, 1, 1, 2, 1, 1, 1, 2, 1, 1…\n",
      "$ LoLIMB           \u001b[3m\u001b[90m<dbl+lbl>\u001b[39m\u001b[23m 1, 1, 2, 1, 2, 1, 2, 1, 1, 1, 2, 1, 1, 1, 2, 1, 1…\n",
      "$ LOMBM_2018       \u001b[3m\u001b[90m<dbl+lbl>\u001b[39m\u001b[23m 1, 1, 2, 1, 1, 2, 2, 1, 1, 1, 2, 1, 1, 1, 2, 1, 1…\n",
      "$ mode             \u001b[3m\u001b[90m<dbl+lbl>\u001b[39m\u001b[23m 9, 9, 9, 9, 9, 9, 9, 9, 2, 9, 9, 2, 2, 2, 9, 9, 5…\n",
      "$ MTNEn            \u001b[3m\u001b[90m<dbl+lbl>\u001b[39m\u001b[23m 1, 0, 0, 1, 0, 1, 1, 0, 1, 0, 0, 1, 0, 0, 1, 1, 0…\n",
      "$ MTNFr            \u001b[3m\u001b[90m<dbl+lbl>\u001b[39m\u001b[23m 0, 0, 1, 0, 1, 0, 0, 0, 0, 0, 1, 0, 0, 1, 0, 0, 1…\n",
      "$ mtnno            \u001b[3m\u001b[90m<dbl+lbl>\u001b[39m\u001b[23m  1, 26,  1,  1,  1,  1,  1, 14,  1, 21,  1,  1, 1…\n",
      "$ marsth           \u001b[3m\u001b[90m<dbl+lbl>\u001b[39m\u001b[23m 2, 2, 1, 2, 5, 6, 2, 2, 2, 2, 3, 2, 2, 2, 1, 1, 1…\n",
      "$ Mob1             \u001b[3m\u001b[90m<dbl+lbl>\u001b[39m\u001b[23m 8, 1, 4, 1, 1, 1, 1, 1, 1, 1, 1, 1, 1, 1, 2, 1, 1…\n",
      "$ Mob5             \u001b[3m\u001b[90m<dbl+lbl>\u001b[39m\u001b[23m 6, 1, 2, 1, 1, 3, 2, 1, 3, 1, 2, 1, 1, 1, 2, 1, 4…\n",
      "$ MrkInc           \u001b[3m\u001b[90m<dbl>\u001b[39m\u001b[23m 7.6e+04, 1.2e+04, 1.0e+08, 7.0e+03, 1.0e+08, 1.0e+08,…\n",
      "$ naics            \u001b[3m\u001b[90m<dbl+lbl>\u001b[39m\u001b[23m  54,  48, 999, 999, 999, 999, 999, 999,  11,  48,…\n",
      "$ NOC21            \u001b[3m\u001b[90m<dbl+lbl>\u001b[39m\u001b[23m 88, 14, 99, 99, 99, 99, 99, 99, 25,  1, 99,  3,  …\n",
      "$ nol              \u001b[3m\u001b[90m<dbl+lbl>\u001b[39m\u001b[23m  1,  1,  1,  1,  1,  1,  1, 10,  1, 26,  1,  1, 1…\n",
      "$ nos              \u001b[3m\u001b[90m<dbl+lbl>\u001b[39m\u001b[23m 1, 1, 1, 1, 1, 1, 1, 1, 1, 1, 1, 1, 1, 1, 1, 1, 1…\n",
      "$ oasgi            \u001b[3m\u001b[90m<dbl>\u001b[39m\u001b[23m 99999999, 99999999, 99999999, 99999999, 16500, 999999…\n",
      "$ OtInc            \u001b[3m\u001b[90m<dbl>\u001b[39m\u001b[23m 1.0e+08, 1.0e+08, 1.0e+08, 1.0e+08, 1.0e+08, 1.0e+08,…\n",
      "$ PKID25           \u001b[3m\u001b[90m<dbl+lbl>\u001b[39m\u001b[23m 8, 0, 9, 0, 1, 9, 0, 0, 0, 0, 0, 0, 1, 0, 0, 0, 0…\n",
      "$ PKID0_1          \u001b[3m\u001b[90m<dbl+lbl>\u001b[39m\u001b[23m 8, 0, 9, 0, 0, 9, 0, 0, 0, 0, 0, 0, 0, 0, 0, 0, 0…\n",
      "$ PKID15_24        \u001b[3m\u001b[90m<dbl+lbl>\u001b[39m\u001b[23m 8, 0, 9, 0, 0, 9, 0, 0, 0, 0, 0, 1, 0, 0, 0, 1, 1…\n",
      "$ PKID2_5          \u001b[3m\u001b[90m<dbl+lbl>\u001b[39m\u001b[23m 8, 0, 9, 0, 0, 9, 0, 0, 1, 0, 0, 0, 0, 0, 1, 0, 0…\n",
      "$ PKID6_14         \u001b[3m\u001b[90m<dbl+lbl>\u001b[39m\u001b[23m 8, 1, 9, 1, 0, 9, 0, 0, 1, 1, 0, 0, 0, 0, 1, 0, 0…\n",
      "$ pkids            \u001b[3m\u001b[90m<dbl+lbl>\u001b[39m\u001b[23m 8, 1, 9, 1, 1, 9, 0, 0, 1, 1, 0, 1, 1, 0, 1, 1, 1…\n",
      "$ pob              \u001b[3m\u001b[90m<dbl+lbl>\u001b[39m\u001b[23m 88, 28,  1,  1,  1,  1,  1, 11,  1, 12,  1,  1,  …\n",
      "$ POBPAR1          \u001b[3m\u001b[90m<dbl+lbl>\u001b[39m\u001b[23m 8, 5, 1, 1, 1, 1, 1, 3, 1, 3, 1, 1, 2, 1, 1, 2, 1…\n",
      "$ POBPAR2          \u001b[3m\u001b[90m<dbl+lbl>\u001b[39m\u001b[23m 8, 5, 1, 1, 1, 1, 1, 3, 3, 3, 1, 1, 2, 1, 1, 2, 1…\n",
      "$ powst            \u001b[3m\u001b[90m<dbl+lbl>\u001b[39m\u001b[23m 9, 9, 9, 9, 9, 9, 9, 9, 6, 1, 9, 6, 4, 4, 9, 9, 5…\n",
      "$ pr               \u001b[3m\u001b[90m<dbl+lbl>\u001b[39m\u001b[23m 10, 35, 24, 48, 24, 59, 10, 35, 35, 35, 24, 35, 2…\n",
      "$ PR1              \u001b[3m\u001b[90m<dbl+lbl>\u001b[39m\u001b[23m 88, 35, 24, 48, 24, 59, 10, 35, 35, 35, 24, 35, 2…\n",
      "$ PR5              \u001b[3m\u001b[90m<dbl+lbl>\u001b[39m\u001b[23m 99, 35, 24, 48, 24, 59, 10, 35, 35, 35, 24, 35, 2…\n",
      "$ presmortg        \u001b[3m\u001b[90m<dbl+lbl>\u001b[39m\u001b[23m 0, 1, 9, 1, 9, 1, 1, 0, 9, 1, 9, 0, 1, 9, 9, 9, 9…\n",
      "$ prihm            \u001b[3m\u001b[90m<dbl+lbl>\u001b[39m\u001b[23m 0, 0, 1, 1, 1, 0, 0, 1, 1, 0, 1, 1, 0, 0, 9, 0, 0…\n",
      "$ pwdur            \u001b[3m\u001b[90m<dbl+lbl>\u001b[39m\u001b[23m 9, 9, 9, 9, 9, 9, 9, 9, 2, 9, 9, 2, 1, 1, 9, 9, 3…\n",
      "$ pwleave          \u001b[3m\u001b[90m<dbl+lbl>\u001b[39m\u001b[23m 9, 9, 9, 9, 9, 9, 9, 9, 2, 9, 9, 5, 3, 2, 9, 9, 5…\n",
      "$ pwocc            \u001b[3m\u001b[90m<dbl+lbl>\u001b[39m\u001b[23m 9, 9, 9, 9, 9, 9, 9, 9, 1, 9, 9, 1, 1, 1, 9, 9, 1…\n",
      "$ pwpr             \u001b[3m\u001b[90m<dbl+lbl>\u001b[39m\u001b[23m 99, 99, 99, 99, 99, 99, 99, 99, 35, 35, 99, 35, 2…\n",
      "$ regind           \u001b[3m\u001b[90m<dbl+lbl>\u001b[39m\u001b[23m 0, 0, 0, 0, 0, 0, 0, 0, 0, 0, 0, 0, 0, 0, 0, 0, 0…\n",
      "$ relig            \u001b[3m\u001b[90m<dbl+lbl>\u001b[39m\u001b[23m 88, 17, 22, 88,  6, 22,  7, 22, 22,  7,  2,  6, 2…\n",
      "$ repair           \u001b[3m\u001b[90m<dbl+lbl>\u001b[39m\u001b[23m 1, 1, 1, 3, 1, 1, 3, 1, 1, 1, 1, 2, 2, 1, 1, 1, 1…\n",
      "$ room             \u001b[3m\u001b[90m<dbl+lbl>\u001b[39m\u001b[23m 10,  4,  1,  9,  5,  9,  8,  6,  8,  6,  4, 11,  …\n",
      "$ Retir            \u001b[3m\u001b[90m<dbl>\u001b[39m\u001b[23m 1.0e+08, 1.0e+08, 1.0e+08, 6.4e+03, 1.0e+08, 1.0e+08,…\n",
      "$ shelco           \u001b[3m\u001b[90m<dbl>\u001b[39m\u001b[23m 700, 1400, 500, 1700, 1200, 1200, 1800, 600, 2800, 16…\n",
      "$ ssgrad           \u001b[3m\u001b[90m<dbl+lbl>\u001b[39m\u001b[23m  6,  6,  4,  6,  4,  4,  8, 11,  6,  4,  6,  8,  …\n",
      "$ subsidy          \u001b[3m\u001b[90m<dbl+lbl>\u001b[39m\u001b[23m 9, 9, 0, 9, 0, 9, 9, 9, 0, 9, 1, 9, 9, 0, 0, 1, 0…\n",
      "$ SempI            \u001b[3m\u001b[90m<dbl>\u001b[39m\u001b[23m 99999999, 11000, 99999999, 99999999, 99999999, 999999…\n",
      "$ tenur            \u001b[3m\u001b[90m<dbl+lbl>\u001b[39m\u001b[23m 1, 1, 2, 1, 2, 1, 1, 1, 2, 1, 2, 1, 1, 2, 2, 2, 2…\n",
      "$ TotInc           \u001b[3m\u001b[90m<dbl>\u001b[39m\u001b[23m 7.6e+04, 3.2e+04, 1.7e+04, 2.2e+04, 2.2e+04, 1.0e+03,…\n",
      "$ TotInc_AT        \u001b[3m\u001b[90m<dbl>\u001b[39m\u001b[23m 5.7e+04, 3.1e+04, 1.6e+04, 2.2e+04, 2.3e+04, 1.0e+03,…\n",
      "$ vismin           \u001b[3m\u001b[90m<dbl+lbl>\u001b[39m\u001b[23m 88,  2,  1, 88,  1,  1,  1,  1,  1,  1,  1,  1,  …\n",
      "$ Value            \u001b[3m\u001b[90m<dbl>\u001b[39m\u001b[23m 626720, 510000, 99999999, 310000, 99999999, 910000, 1…\n",
      "$ wkswrk           \u001b[3m\u001b[90m<dbl+lbl>\u001b[39m\u001b[23m 8, 5, 9, 9, 9, 9, 9, 9, 2, 0, 9, 6, 6, 6, 9, 9, 6…\n",
      "$ wrkact           \u001b[3m\u001b[90m<dbl+lbl>\u001b[39m\u001b[23m 88, 10,  1,  1,  1,  1,  1,  1,  3,  2,  1, 11, 1…\n",
      "$ Wages            \u001b[3m\u001b[90m<dbl>\u001b[39m\u001b[23m 7.6e+04, 1.0e+08, 1.0e+08, 1.0e+08, 1.0e+08, 1.0e+08,…\n",
      "$ yrim             \u001b[3m\u001b[90m<dbl+lbl>\u001b[39m\u001b[23m 2008, 2005, 9999, 9999, 9999, 9999, 9999,    9, 9…\n",
      "$ weight           \u001b[3m\u001b[90m<dbl>\u001b[39m\u001b[23m 37.04973, 37.03785, 37.05007, 37.01091, 37.05007, 37.…\n",
      "$ WT1              \u001b[3m\u001b[90m<dbl>\u001b[39m\u001b[23m 22.90113, 22.89379, 22.90134, 22.87713, 22.90134, 22.…\n",
      "$ WT2              \u001b[3m\u001b[90m<dbl>\u001b[39m\u001b[23m 22.90113, 22.89379, 22.90134, 22.87713, 22.90134, 22.…\n",
      "$ WT3              \u001b[3m\u001b[90m<dbl>\u001b[39m\u001b[23m 22.90113, 22.89379, 249.28105, 22.87713, 22.90134, 22…\n",
      "$ WT4              \u001b[3m\u001b[90m<dbl>\u001b[39m\u001b[23m 22.90113, 22.89379, 22.90134, 249.01752, 249.28105, 2…\n",
      "$ WT5              \u001b[3m\u001b[90m<dbl>\u001b[39m\u001b[23m 22.90113, 22.89379, 22.90134, 22.87713, 22.90134, 22.…\n",
      "$ WT6              \u001b[3m\u001b[90m<dbl>\u001b[39m\u001b[23m 22.90113, 249.19883, 22.90134, 22.87713, 22.90134, 22…\n",
      "$ WT7              \u001b[3m\u001b[90m<dbl>\u001b[39m\u001b[23m 22.90113, 22.89379, 22.90134, 22.87713, 22.90134, 22.…\n",
      "$ WT8              \u001b[3m\u001b[90m<dbl>\u001b[39m\u001b[23m 22.90113, 22.89379, 22.90134, 22.87713, 22.90134, 22.…\n",
      "$ WT9              \u001b[3m\u001b[90m<dbl>\u001b[39m\u001b[23m 22.90113, 22.89379, 22.90134, 22.87713, 22.90134, 22.…\n",
      "$ WT10             \u001b[3m\u001b[90m<dbl>\u001b[39m\u001b[23m 249.27876, 22.89379, 22.90134, 22.87713, 22.90134, 22…\n",
      "$ WT11             \u001b[3m\u001b[90m<dbl>\u001b[39m\u001b[23m 22.90113, 22.89379, 22.90134, 22.87713, 22.90134, 22.…\n",
      "$ WT12             \u001b[3m\u001b[90m<dbl>\u001b[39m\u001b[23m 22.90113, 22.89379, 22.90134, 22.87713, 22.90134, 22.…\n",
      "$ WT13             \u001b[3m\u001b[90m<dbl>\u001b[39m\u001b[23m 22.90113, 22.89379, 22.90134, 22.87713, 22.90134, 22.…\n",
      "$ WT14             \u001b[3m\u001b[90m<dbl>\u001b[39m\u001b[23m 22.90113, 22.89379, 22.90134, 22.87713, 22.90134, 249…\n",
      "$ WT15             \u001b[3m\u001b[90m<dbl>\u001b[39m\u001b[23m 22.90113, 22.89379, 22.90134, 22.87713, 22.90134, 22.…\n",
      "$ WT16             \u001b[3m\u001b[90m<dbl>\u001b[39m\u001b[23m 22.90113, 22.89379, 22.90134, 22.87713, 22.90134, 22.…\n"
     ]
    }
   ],
   "source": [
    "# Read in the data from the relative path\n",
    "census_data <- read_dta(\"../census_2021_indiv_Stata_dta_v2/cen_ind_2021_pumf_v2.dta\")|>\n",
    "    glimpse()"
   ]
  },
  {
   "cell_type": "code",
   "execution_count": 3,
   "metadata": {
    "vscode": {
     "languageId": "r"
    }
   },
   "outputs": [],
   "source": [
    "treatment_group <- census_data|>\n",
    "    filter(Citizen %in% c(1, 2))|> # Remove NA from OAS variable\n",
    "    filter(agegrp %in% c(16, 17))|> # I use individuals at age 60-64 as pre and age 65-69 as post\n",
    "    filter(!lfact %in% c(88, 99)) # Remove NA and observations under age 65 from age group"
   ]
  },
  {
   "cell_type": "code",
   "execution_count": 4,
   "metadata": {
    "vscode": {
     "languageId": "r"
    }
   },
   "outputs": [
    {
     "data": {
      "image/png": "[encoded data removed]",
      "text/plain": [
       "plot without title"
      ]
     },
     "metadata": {
      "image/png": {
       "height": 420,
       "width": 420
      }
     },
     "output_type": "display_data"
    }
   ],
   "source": [
    "# Plot the distribution of labour outcome in the treatment group\n",
    "ggplot(treatment_group, aes(x = lfact)) + \n",
    "    geom_bar() + \n",
    "    labs(x = \"Labour Force Status\", y = \"Count\") + \n",
    "    ggtitle(\"Distribution of Labour Force Status in Treatment Group\")"
   ]
  },
  {
   "cell_type": "code",
   "execution_count": 5,
   "metadata": {
    "vscode": {
     "languageId": "r"
    }
   },
   "outputs": [],
   "source": [
    "control_group <- census_data|>\n",
    "    filter(!Citizen %in% c(1, 2))|> # Select observations not available for OAS because of citizenship status\n",
    "    filter(agegrp %in% c(16,17))|> # I use individuals at age 60-64 as pre and age 65-69 as post\n",
    "    filter(!lfact %in% c(88, 99))  "
   ]
  },
  {
   "cell_type": "code",
   "execution_count": 6,
   "metadata": {
    "vscode": {
     "languageId": "r"
    }
   },
   "outputs": [
    {
     "data": {
      "image/png": "[encoded data removed]",
      "text/plain": [
       "plot without title"
      ]
     },
     "metadata": {
      "image/png": {
       "height": 420,
       "width": 420
      }
     },
     "output_type": "display_data"
    }
   ],
   "source": [
    "# Plot the distribution of labour status in the control group\n",
    "ggplot(control_group, aes(x = lfact)) + \n",
    "    geom_bar() + \n",
    "    labs(x = \"Labour Force Status\", y = \"Count\") + \n",
    "    ggtitle(\"Distribution of Labour Force Status in Treatment Group\")"
   ]
  },
  {
   "cell_type": "code",
   "execution_count": 7,
   "metadata": {
    "vscode": {
     "languageId": "r"
    }
   },
   "outputs": [
    {
     "name": "stdout",
     "output_type": "stream",
     "text": [
      "Rows: 126,132\n",
      "Columns: 5\n",
      "$ employment \u001b[3m\u001b[90m<dbl>\u001b[39m\u001b[23m 0, 0, 0, 0, 0, 1, 0, 1, 0, 1, 0, 1, 0, 0, 0, 0, 0, 0, 0, 1,…\n",
      "$ group      \u001b[3m\u001b[90m<dbl>\u001b[39m\u001b[23m 1, 1, 1, 1, 1, 1, 1, 1, 1, 1, 1, 1, 1, 1, 1, 1, 1, 1, 1, 1,…\n",
      "$ post       \u001b[3m\u001b[90m<dbl>\u001b[39m\u001b[23m 0, 0, 0, 0, 0, 1, 1, 0, 0, 0, 1, 1, 1, 1, 0, 0, 1, 1, 1, 1,…\n",
      "$ Gender     \u001b[3m\u001b[90m<dbl+lbl>\u001b[39m\u001b[23m 2, 1, 1, 1, 2, 1, 2, 2, 2, 2, 1, 2, 2, 1, 2, 2, 1, 1, 1…\n",
      "$ hdgree     \u001b[3m\u001b[90m<dbl+lbl>\u001b[39m\u001b[23m  5,  2,  9, 12,  6,  8,  9,  1,  2,  2,  2,  1,  2,  7,…\n"
     ]
    }
   ],
   "source": [
    "# Combine the two datasets\n",
    "treatment_group <- treatment_group |>\n",
    "  mutate(group = 1)  # 1 for treatment\n",
    "\n",
    "control_group <- control_group|>\n",
    "  mutate(group = 0)  # 0 for control\n",
    "\n",
    "combined_data <- bind_rows(treatment_group, control_group)\n",
    "\n",
    "combined_data <- combined_data|>\n",
    "  mutate(post = ifelse(agegrp == 17, 1, 0))|>\n",
    "  mutate(employment = ifelse(lfact %in% c(1:9), 1, 0))|> # 1 represents employed, 0 represents unemployed\n",
    "  filter(!hdgree %in% c(88, 99))|>\n",
    "  select(employment, group, post, Gender, hdgree)|>\n",
    "  glimpse()"
   ]
  },
  {
   "cell_type": "code",
   "execution_count": 8,
   "metadata": {
    "vscode": {
     "languageId": "r"
    }
   },
   "outputs": [
    {
     "name": "stderr",
     "output_type": "stream",
     "text": [
      "\u001b[1m\u001b[22m`summarise()` has grouped output by 'group'. You can override using the\n",
      "`.groups` argument.\n"
     ]
    },
    {
     "data": {
      "text/html": [
       "<table class=\"dataframe\">\n",
       "<caption>A grouped_df: 4 × 3</caption>\n",
       "<thead>\n",
       "\t<tr><th scope=col>group</th><th scope=col>post</th><th scope=col>count</th></tr>\n",
       "\t<tr><th scope=col>&lt;dbl&gt;</th><th scope=col>&lt;dbl&gt;</th><th scope=col>&lt;int&gt;</th></tr>\n",
       "</thead>\n",
       "<tbody>\n",
       "\t<tr><td>0</td><td>0</td><td> 2257</td></tr>\n",
       "\t<tr><td>0</td><td>1</td><td> 1929</td></tr>\n",
       "\t<tr><td>1</td><td>0</td><td>65714</td></tr>\n",
       "\t<tr><td>1</td><td>1</td><td>56232</td></tr>\n",
       "</tbody>\n",
       "</table>\n"
      ],
      "text/latex": [
       "A grouped\\_df: 4 × 3\n",
       "\\begin{tabular}{lll}\n",
       " group & post & count\\\\\n",
       " <dbl> & <dbl> & <int>\\\\\n",
       "\\hline\n",
       "\t 0 & 0 &  2257\\\\\n",
       "\t 0 & 1 &  1929\\\\\n",
       "\t 1 & 0 & 65714\\\\\n",
       "\t 1 & 1 & 56232\\\\\n",
       "\\end{tabular}\n"
      ],
      "text/markdown": [
       "\n",
       "A grouped_df: 4 × 3\n",
       "\n",
       "| group &lt;dbl&gt; | post &lt;dbl&gt; | count &lt;int&gt; |\n",
       "|---|---|---|\n",
       "| 0 | 0 |  2257 |\n",
       "| 0 | 1 |  1929 |\n",
       "| 1 | 0 | 65714 |\n",
       "| 1 | 1 | 56232 |\n",
       "\n"
      ],
      "text/plain": [
       "  group post count\n",
       "1 0     0     2257\n",
       "2 0     1     1929\n",
       "3 1     0    65714\n",
       "4 1     1    56232"
      ]
     },
     "metadata": {},
     "output_type": "display_data"
    }
   ],
   "source": [
    "combined_data|>\n",
    "    group_by(group, post)|>\n",
    "    summarize(count = n())"
   ]
  },
  {
   "cell_type": "code",
   "execution_count": 9,
   "metadata": {
    "vscode": {
     "languageId": "r"
    }
   },
   "outputs": [
    {
     "data": {
      "text/plain": [
       "\n",
       "Call:\n",
       "lm(formula = employment ~ post * group, data = combined_data)\n",
       "\n",
       "Residuals:\n",
       "    Min      1Q  Median      3Q     Max \n",
       "-0.5587 -0.2847 -0.2847  0.4413  0.7486 \n",
       "\n",
       "Coefficients:\n",
       "            Estimate Std. Error t value Pr(>|t|)    \n",
       "(Intercept)  0.49180    0.01002  49.082  < 2e-16 ***\n",
       "post        -0.24038    0.01476 -16.285  < 2e-16 ***\n",
       "group        0.06692    0.01019   6.567 5.16e-11 ***\n",
       "post:group  -0.03362    0.01501  -2.239   0.0251 *  \n",
       "---\n",
       "Signif. codes:  0 '***' 0.001 '**' 0.01 '*' 0.05 '.' 0.1 ' ' 1\n",
       "\n",
       "Residual standard error: 0.476 on 126128 degrees of freedom\n",
       "Multiple R-squared:  0.07584,\tAdjusted R-squared:  0.07582 \n",
       "F-statistic:  3450 on 3 and 126128 DF,  p-value: < 2.2e-16\n"
      ]
     },
     "metadata": {},
     "output_type": "display_data"
    }
   ],
   "source": [
    "# We study the naive DD model without control\n",
    "model0 <- lm(employment ~ post*group, data = combined_data)\n",
    "\n",
    "summary(model0)"
   ]
  },
  {
   "cell_type": "code",
   "execution_count": 10,
   "metadata": {
    "vscode": {
     "languageId": "r"
    }
   },
   "outputs": [
    {
     "data": {
      "text/plain": [
       "\n",
       "Call:\n",
       "lm(formula = employment ~ Gender + post * group, data = combined_data)\n",
       "\n",
       "Residuals:\n",
       "    Min      1Q  Median      3Q     Max \n",
       "-0.6202 -0.3465 -0.2273  0.4990  0.8030 \n",
       "\n",
       "Coefficients:\n",
       "             Estimate Std. Error t value Pr(>|t|)    \n",
       "(Intercept)  0.318939   0.010664  29.907  < 2e-16 ***\n",
       "Gender       0.119204   0.002662  44.788  < 2e-16 ***\n",
       "post        -0.241098   0.014645 -16.463  < 2e-16 ***\n",
       "group        0.062822   0.010111   6.213 5.21e-10 ***\n",
       "post:group  -0.032576   0.014894  -2.187   0.0287 *  \n",
       "---\n",
       "Signif. codes:  0 '***' 0.001 '**' 0.01 '*' 0.05 '.' 0.1 ' ' 1\n",
       "\n",
       "Residual standard error: 0.4723 on 126127 degrees of freedom\n",
       "Multiple R-squared:  0.09031,\tAdjusted R-squared:  0.09028 \n",
       "F-statistic:  3130 on 4 and 126127 DF,  p-value: < 2.2e-16\n"
      ]
     },
     "metadata": {},
     "output_type": "display_data"
    }
   ],
   "source": [
    "# We study the model adding gender as a control\n",
    "model1 <- lm(employment ~ Gender + post*group, data = combined_data)\n",
    "\n",
    "summary(model1)"
   ]
  },
  {
   "cell_type": "code",
   "execution_count": 11,
   "metadata": {
    "vscode": {
     "languageId": "r"
    }
   },
   "outputs": [
    {
     "data": {
      "text/plain": [
       "\n",
       "Call:\n",
       "lm(formula = employment ~ hdgree + post * group, data = combined_data)\n",
       "\n",
       "Residuals:\n",
       "    Min      1Q  Median      3Q     Max \n",
       "-0.6712 -0.3843 -0.2495  0.4772  0.7934 \n",
       "\n",
       "Coefficients:\n",
       "              Estimate Std. Error t value Pr(>|t|)    \n",
       "(Intercept)  0.4279395  0.0101456  42.180  < 2e-16 ***\n",
       "hdgree       0.0134862  0.0003929  34.328  < 2e-16 ***\n",
       "post        -0.2348143  0.0146930 -15.981  < 2e-16 ***\n",
       "group        0.0679310  0.0101435   6.697 2.14e-11 ***\n",
       "post:group  -0.0385635  0.0149428  -2.581  0.00986 ** \n",
       "---\n",
       "Signif. codes:  0 '***' 0.001 '**' 0.01 '*' 0.05 '.' 0.1 ' ' 1\n",
       "\n",
       "Residual standard error: 0.4738 on 126127 degrees of freedom\n",
       "Multiple R-squared:  0.0844,\tAdjusted R-squared:  0.08437 \n",
       "F-statistic:  2907 on 4 and 126127 DF,  p-value: < 2.2e-16\n"
      ]
     },
     "metadata": {},
     "output_type": "display_data"
    }
   ],
   "source": [
    "# We study the model using highest degree as a control\n",
    "model2 <- lm(employment ~ hdgree + post*group, data = combined_data)\n",
    "\n",
    "summary(model2)"
   ]
  },
  {
   "cell_type": "code",
   "execution_count": 12,
   "metadata": {
    "vscode": {
     "languageId": "r"
    }
   },
   "outputs": [
    {
     "data": {
      "text/plain": [
       "\n",
       "Call:\n",
       "lm(formula = employment ~ Gender + hdgree + post * group, data = combined_data)\n",
       "\n",
       "Residuals:\n",
       "    Min      1Q  Median      3Q     Max \n",
       "-0.7314 -0.4048 -0.1926  0.4407  0.8471 \n",
       "\n",
       "Coefficients:\n",
       "              Estimate Std. Error t value Pr(>|t|)    \n",
       "(Intercept)  0.2564967  0.0107699  23.816  < 2e-16 ***\n",
       "Gender       0.1186014  0.0026492  44.768  < 2e-16 ***\n",
       "hdgree       0.0133706  0.0003898  34.302  < 2e-16 ***\n",
       "post        -0.2355783  0.0145777 -16.160  < 2e-16 ***\n",
       "group        0.0638444  0.0100643   6.344 2.25e-10 ***\n",
       "post:group  -0.0374871  0.0148256  -2.529   0.0115 *  \n",
       "---\n",
       "Signif. codes:  0 '***' 0.001 '**' 0.01 '*' 0.05 '.' 0.1 ' ' 1\n",
       "\n",
       "Residual standard error: 0.4701 on 126126 degrees of freedom\n",
       "Multiple R-squared:  0.09872,\tAdjusted R-squared:  0.09868 \n",
       "F-statistic:  2763 on 5 and 126126 DF,  p-value: < 2.2e-16\n"
      ]
     },
     "metadata": {},
     "output_type": "display_data"
    }
   ],
   "source": [
    "# We incorporate both gender and highest degree as controls\n",
    "model3 <- lm(employment ~ Gender + hdgree + post*group, data = combined_data)\n",
    "\n",
    "summary(model3)"
   ]
  },
  {
   "cell_type": "code",
   "execution_count": 13,
   "metadata": {
    "vscode": {
     "languageId": "r"
    }
   },
   "outputs": [
    {
     "name": "stdout",
     "output_type": "stream",
     "text": [
      "\n",
      "Effect of OAS Benefit on Employment\n",
      "===================================================================================================\n",
      "                                                  Dependent variable:                              \n",
      "                    -------------------------------------------------------------------------------\n",
      "                                           Employment Status (1 = Employed)                        \n",
      "                            (1)                 (2)                 (3)                 (4)        \n",
      "---------------------------------------------------------------------------------------------------\n",
      "Gender (1 = Woman)                           0.119***                                0.119***      \n",
      "                                              (0.003)                                 (0.003)      \n",
      "                                                                                                   \n",
      "Highest Degree                                                   0.013***            0.013***      \n",
      "                                                                 (0.0004)            (0.0004)      \n",
      "                                                                                                   \n",
      "Post 65 (1 = Yes)        -0.240***           -0.241***           -0.235***           -0.236***     \n",
      "                          (0.015)             (0.015)             (0.015)             (0.015)      \n",
      "                                                                                                   \n",
      "OAS (1 = Qualified)      0.067***            0.063***            0.068***            0.064***      \n",
      "                          (0.010)             (0.010)             (0.010)             (0.010)      \n",
      "                                                                                                   \n",
      "Post 65 x Group          -0.034**            -0.033**            -0.039***           -0.037**      \n",
      "                          (0.015)             (0.015)             (0.015)             (0.015)      \n",
      "                                                                                                   \n",
      "Constant                 0.492***            0.319***            0.428***            0.256***      \n",
      "                          (0.010)             (0.011)             (0.010)             (0.011)      \n",
      "                                                                                                   \n",
      "---------------------------------------------------------------------------------------------------\n",
      "Observations              126,132             126,132             126,132             126,132      \n",
      "R2                         0.076               0.090               0.084               0.099       \n",
      "Adjusted R2                0.076               0.090               0.084               0.099       \n",
      "Residual Std. Error 0.476 (df = 126128) 0.472 (df = 126127) 0.474 (df = 126127) 0.470 (df = 126126)\n",
      "===================================================================================================\n",
      "Note:                                                                   *p<0.1; **p<0.05; ***p<0.01\n",
      "                                                                  Data Source: Canadian Census 2021\n"
     ]
    }
   ],
   "source": [
    "# Generate the regression summary table\n",
    "summary_table <- stargazer(model0, model1, model2, model3, \n",
    "    type = \"text\", \n",
    "    title = \"Effect of OAS Benefit on Employment\",\n",
    "    covariate.labels = c(\n",
    "        \"Gender (1 = Woman)\",\n",
    "        \"Highest Degree\",\n",
    "        \"Post 65 (1 = Yes)\",\n",
    "        \"OAS (1 = Qualified)\",\n",
    "        \"Post 65 x Group\"),\n",
    "    dep.var.labels = \"Employment Status (1 = Employed)\",\n",
    "    digits = 3,\n",
    "    omit.stat = \"f\",\n",
    "    notes = \"Data Source: Canadian Census 2021\")"
   ]
  },
  {
   "cell_type": "code",
   "execution_count": 14,
   "metadata": {
    "vscode": {
     "languageId": "r"
    }
   },
   "outputs": [
    {
     "name": "stdout",
     "output_type": "stream",
     "text": [
      "\n",
      "% Table created by stargazer v.5.2.3 by Marek Hlavac, Social Policy Institute. E-mail: marek.hlavac at gmail.com\n",
      "% Date and time: 周三, 3月 26, 2025 - 14:30:07\n",
      "\\begin{table}[!htbp] \\centering \n",
      "  \\caption{Effect of OAS Benefit on Employment} \n",
      "  \\label{} \n",
      "\\begin{tabular}{@{\\extracolsep{5pt}}lcccc} \n",
      "\\\\[-1.8ex]\\hline \n",
      "\\hline \\\\[-1.8ex] \n",
      " & \\multicolumn{4}{c}{\\textit{Dependent variable:}} \\\\ \n",
      "\\cline{2-5} \n",
      "\\\\[-1.8ex] & \\multicolumn{4}{c}{Employment Status (1 = Employed)} \\\\ \n",
      "\\\\[-1.8ex] & (1) & (2) & (3) & (4)\\\\ \n",
      "\\hline \\\\[-1.8ex] \n",
      " Gender (1 = Woman) &  & 0.119$^{***}$ &  & 0.119$^{***}$ \\\\ \n",
      "  &  & (0.003) &  & (0.003) \\\\ \n",
      "  & & & & \\\\ \n",
      " Highest Degree &  &  & 0.013$^{***}$ & 0.013$^{***}$ \\\\ \n",
      "  &  &  & (0.0004) & (0.0004) \\\\ \n",
      "  & & & & \\\\ \n",
      " Post 65 (1 = Yes) & $-$0.240$^{***}$ & $-$0.241$^{***}$ & $-$0.235$^{***}$ & $-$0.236$^{***}$ \\\\ \n",
      "  & (0.015) & (0.015) & (0.015) & (0.015) \\\\ \n",
      "  & & & & \\\\ \n",
      " OAS (1 = Qualified) & 0.067$^{***}$ & 0.063$^{***}$ & 0.068$^{***}$ & 0.064$^{***}$ \\\\ \n",
      "  & (0.010) & (0.010) & (0.010) & (0.010) \\\\ \n",
      "  & & & & \\\\ \n",
      " Post 65 x Group & $-$0.034$^{**}$ & $-$0.033$^{**}$ & $-$0.039$^{***}$ & $-$0.037$^{**}$ \\\\ \n",
      "  & (0.015) & (0.015) & (0.015) & (0.015) \\\\ \n",
      "  & & & & \\\\ \n",
      " Constant & 0.492$^{***}$ & 0.319$^{***}$ & 0.428$^{***}$ & 0.256$^{***}$ \\\\ \n",
      "  & (0.010) & (0.011) & (0.010) & (0.011) \\\\ \n",
      "  & & & & \\\\ \n",
      "\\hline \\\\[-1.8ex] \n",
      "Observations & 126,132 & 126,132 & 126,132 & 126,132 \\\\ \n",
      "R$^{2}$ & 0.076 & 0.090 & 0.084 & 0.099 \\\\ \n",
      "Adjusted R$^{2}$ & 0.076 & 0.090 & 0.084 & 0.099 \\\\ \n",
      "Residual Std. Error & 0.476 (df = 126128) & 0.472 (df = 126127) & 0.474 (df = 126127) & 0.470 (df = 126126) \\\\ \n",
      "\\hline \n",
      "\\hline \\\\[-1.8ex] \n",
      "\\textit{Note:}  & \\multicolumn{4}{r}{$^{*}$p$<$0.1; $^{**}$p$<$0.05; $^{***}$p$<$0.01} \\\\ \n",
      " & \\multicolumn{4}{r}{Data Source: Canadian Census 2021} \\\\ \n",
      "\\end{tabular} \n",
      "\\end{table} \n"
     ]
    }
   ],
   "source": [
    "summary_table <- stargazer(model0, model1, model2, model3, \n",
    "    type = \"latex\", \n",
    "    title = \"Effect of OAS Benefit on Employment\",\n",
    "    covariate.labels = c(\n",
    "        \"Gender (1 = Woman)\",\n",
    "        \"Highest Degree\",\n",
    "        \"Post 65 (1 = Yes)\",\n",
    "        \"OAS (1 = Qualified)\",\n",
    "        \"Post 65 x Group\"),\n",
    "    dep.var.labels = \"Employment Status (1 = Employed)\",\n",
    "    digits = 3,\n",
    "    omit.stat = \"f\",\n",
    "    notes = \"Data Source: Canadian Census 2021\")"
   ]
  },
  {
   "cell_type": "code",
   "execution_count": null,
   "metadata": {
    "vscode": {
     "languageId": "r"
    }
   },
   "outputs": [],
   "source": []
  }
 ],
 "metadata": {
  "kernelspec": {
   "display_name": "R",
   "language": "R",
   "name": "ir"
  },
  "language_info": {
   "codemirror_mode": "r",
   "file_extension": ".r",
   "mimetype": "text/x-r-source",
   "name": "R",
   "pygments_lexer": "r",
   "version": "4.4.1"
  }
 },
 "nbformat": 4,
 "nbformat_minor": 2
}

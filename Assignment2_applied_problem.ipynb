{
 "cells": [
  {
   "cell_type": "markdown",
   "metadata": {},
   "source": [
    "# Econ 398 Assignment 2"
   ]
  },
  {
   "cell_type": "markdown",
   "metadata": {},
   "source": [
    "## Question 5 (Applied Problem)"
   ]
  },
  {
   "cell_type": "code",
   "execution_count": 1,
   "metadata": {
    "vscode": {
     "languageId": "r"
    }
   },
   "outputs": [
    {
     "name": "stderr",
     "output_type": "stream",
     "text": [
      "Warning message:\n",
      "\"package 'tidyverse' was built under R version 4.4.2\"\n",
      "Warning message:\n",
      "\"package 'ggplot2' was built under R version 4.4.2\"\n",
      "Warning message:\n",
      "\"package 'dplyr' was built under R version 4.4.2\"\n",
      "── \u001b[1mAttaching core tidyverse packages\u001b[22m ──────────────────────── tidyverse 2.0.0 ──\n",
      "\u001b[32m✔\u001b[39m \u001b[34mdplyr    \u001b[39m 1.1.4     \u001b[32m✔\u001b[39m \u001b[34mreadr    \u001b[39m 2.1.5\n",
      "\u001b[32m✔\u001b[39m \u001b[34mforcats  \u001b[39m 1.0.0     \u001b[32m✔\u001b[39m \u001b[34mstringr  \u001b[39m 1.5.1\n",
      "\u001b[32m✔\u001b[39m \u001b[34mggplot2  \u001b[39m 3.5.1     \u001b[32m✔\u001b[39m \u001b[34mtibble   \u001b[39m 3.2.1\n",
      "\u001b[32m✔\u001b[39m \u001b[34mlubridate\u001b[39m 1.9.3     \u001b[32m✔\u001b[39m \u001b[34mtidyr    \u001b[39m 1.3.1\n",
      "\u001b[32m✔\u001b[39m \u001b[34mpurrr    \u001b[39m 1.0.2     \n",
      "── \u001b[1mConflicts\u001b[22m ────────────────────────────────────────── tidyverse_conflicts() ──\n",
      "\u001b[31m✖\u001b[39m \u001b[34mdplyr\u001b[39m::\u001b[32mfilter()\u001b[39m masks \u001b[34mstats\u001b[39m::filter()\n",
      "\u001b[31m✖\u001b[39m \u001b[34mdplyr\u001b[39m::\u001b[32mlag()\u001b[39m    masks \u001b[34mstats\u001b[39m::lag()\n",
      "\u001b[36mℹ\u001b[39m Use the conflicted package (\u001b[3m\u001b[34m<http://conflicted.r-lib.org/>\u001b[39m\u001b[23m) to force all conflicts to become errors\n",
      "Warning message:\n",
      "\"package 'gt' was built under R version 4.4.2\"\n",
      "Warning message:\n",
      "\"package 'gtsummary' was built under R version 4.4.2\"\n",
      "Warning message:\n",
      "\"package 'kableExtra' was built under R version 4.4.2\"\n",
      "\n",
      "Attaching package: 'kableExtra'\n",
      "\n",
      "\n",
      "The following object is masked from 'package:dplyr':\n",
      "\n",
      "    group_rows\n",
      "\n",
      "\n"
     ]
    }
   ],
   "source": [
    "library(tidyverse)\n",
    "library(ggplot2)\n",
    "library(haven)\n",
    "library(gt)\n",
    "library(gtsummary)\n",
    "library(knitr)\n",
    "library(kableExtra)"
   ]
  },
  {
   "cell_type": "code",
   "execution_count": 2,
   "metadata": {
    "vscode": {
     "languageId": "r"
    }
   },
   "outputs": [
    {
     "name": "stdout",
     "output_type": "stream",
     "text": [
      "Rows: 980,868\n",
      "Columns: 128\n",
      "$ ppsort           \u001b[3m\u001b[90m<dbl>\u001b[39m\u001b[23m 1, 2, 3, 4, 5, 6, 7, 8, 9, 10, 11, 12, 13, 14, 15, 16…\n",
      "$ aboid            \u001b[3m\u001b[90m<dbl+lbl>\u001b[39m\u001b[23m 6, 6, 1, 6, 6, 2, 6, 6, 6, 6, 6, 6, 6, 6, 6, 6, 6…\n",
      "$ agegrp           \u001b[3m\u001b[90m<dbl+lbl>\u001b[39m\u001b[23m 13, 11, 13, 16, 18, 16, 16, 16, 11, 12, 16, 13, 1…\n",
      "$ ageimm           \u001b[3m\u001b[90m<dbl+lbl>\u001b[39m\u001b[23m  7,  5, 99, 99, 99, 99, 99,  7, 99,  6, 99, 99,  …\n",
      "$ attsch           \u001b[3m\u001b[90m<dbl+lbl>\u001b[39m\u001b[23m 1, 1, 1, 1, 1, 1, 1, 1, 1, 1, 1, 1, 1, 1, 9, 2, 2…\n",
      "$ bfnmemb          \u001b[3m\u001b[90m<dbl+lbl>\u001b[39m\u001b[23m 0, 0, 0, 0, 0, 0, 0, 0, 0, 0, 0, 0, 0, 0, 0, 0, 0…\n",
      "$ bedrm            \u001b[3m\u001b[90m<dbl+lbl>\u001b[39m\u001b[23m 4, 3, 0, 4, 3, 4, 3, 4, 4, 4, 1, 4, 5, 2, 2, 2, 3…\n",
      "$ CFInc            \u001b[3m\u001b[90m<dbl+lbl>\u001b[39m\u001b[23m 30, 18,  7, 15, 13,  1, 10, 30, 25, 22,  9, 33, 2…\n",
      "$ CFInc_AT         \u001b[3m\u001b[90m<dbl+lbl>\u001b[39m\u001b[23m 27, 18,  7, 15, 13,  1, 10, 27, 24, 22,  9, 32, 2…\n",
      "$ cfstat           \u001b[3m\u001b[90m<dbl+lbl>\u001b[39m\u001b[23m 2, 2, 6, 2, 3, 7, 1, 1, 2, 2, 1, 2, 2, 1, 5, 5, 5…\n",
      "$ chdbn            \u001b[3m\u001b[90m<dbl>\u001b[39m\u001b[23m 88888888, 11500, 99999999, 99999999, 99999999, 999999…\n",
      "$ CIP2021          \u001b[3m\u001b[90m<dbl+lbl>\u001b[39m\u001b[23m  7,  8, 13, 10, 13, 13,  4,  4, 88, 13,  7,  5, 1…\n",
      "$ CIP2021_STEM_SUM \u001b[3m\u001b[90m<dbl+lbl>\u001b[39m\u001b[23m  3,  2, 11,  8, 11, 11,  6,  6, 88, 11,  3,  4, 1…\n",
      "$ cma              \u001b[3m\u001b[90m<dbl+lbl>\u001b[39m\u001b[23m 999, 505, 462, 999, 999, 999, 999, 535, 541, 559,…\n",
      "$ condo            \u001b[3m\u001b[90m<dbl+lbl>\u001b[39m\u001b[23m 0, 0, 0, 8, 0, 0, 0, 1, 0, 0, 0, 0, 0, 1, 0, 0, 0…\n",
      "$ COVID_ERB        \u001b[3m\u001b[90m<dbl>\u001b[39m\u001b[23m 99999999, 8100, 99999999, 99999999, 99999999, 9999999…\n",
      "$ cow              \u001b[3m\u001b[90m<dbl+lbl>\u001b[39m\u001b[23m 1, 3, 9, 9, 9, 9, 9, 9, 1, 4, 9, 1, 1, 5, 9, 9, 1…\n",
      "$ cqppb            \u001b[3m\u001b[90m<dbl>\u001b[39m\u001b[23m 99999999, 99999999, 99999999, 15000, 4100, 99999999, …\n",
      "$ CapGn            \u001b[3m\u001b[90m<dbl>\u001b[39m\u001b[23m 1.0e+08, 1.0e+08, 1.0e+08, 1.0e+08, 1.0e+08, 1.0e+08,…\n",
      "$ CfSize           \u001b[3m\u001b[90m<dbl+lbl>\u001b[39m\u001b[23m 4, 4, 1, 3, 2, 1, 2, 2, 6, 4, 2, 4, 3, 2, 3, 2, 3…\n",
      "$ ChldC            \u001b[3m\u001b[90m<dbl>\u001b[39m\u001b[23m 88888888, 99999999, 99999999, 99999999, 99999999, 999…\n",
      "$ CitOth           \u001b[3m\u001b[90m<dbl+lbl>\u001b[39m\u001b[23m 88, 15, 15, 88, 15, 15, 15,  4, 15,  4, 15, 15,  …\n",
      "$ Citizen          \u001b[3m\u001b[90m<dbl+lbl>\u001b[39m\u001b[23m 3, 2, 1, 1, 1, 1, 1, 2, 1, 2, 1, 1, 2, 1, 1, 1, 1…\n",
      "$ dist             \u001b[3m\u001b[90m<dbl+lbl>\u001b[39m\u001b[23m 9, 9, 9, 9, 9, 9, 9, 9, 4, 9, 9, 2, 1, 1, 9, 9, 6…\n",
      "$ dpgrsum          \u001b[3m\u001b[90m<dbl+lbl>\u001b[39m\u001b[23m 88,  2, 14, 88,  1, 14,  1,  1,  1,  1,  1,  1,  …\n",
      "$ dtype            \u001b[3m\u001b[90m<dbl+lbl>\u001b[39m\u001b[23m 1, 1, 2, 8, 1, 1, 1, 3, 1, 1, 2, 1, 1, 2, 2, 2, 1…\n",
      "$ EFDecile         \u001b[3m\u001b[90m<dbl+lbl>\u001b[39m\u001b[23m  9,  3,  1,  5,  2,  1,  1,  9,  4,  4,  1, 10,  …\n",
      "$ EFInc            \u001b[3m\u001b[90m<dbl+lbl>\u001b[39m\u001b[23m 33, 18,  7, 26, 13,  1, 10, 30, 25, 22,  9, 33, 2…\n",
      "$ EFInc_AT         \u001b[3m\u001b[90m<dbl+lbl>\u001b[39m\u001b[23m 31, 18,  7, 25, 13,  1, 10, 27, 24, 22,  9, 32, 2…\n",
      "$ eicbn            \u001b[3m\u001b[90m<dbl>\u001b[39m\u001b[23m 1e+08, 1e+08, 1e+08, 1e+08, 1e+08, 1e+08, 1e+08, 1e+0…\n",
      "$ ethder           \u001b[3m\u001b[90m<dbl+lbl>\u001b[39m\u001b[23m 88, 41,  1, 88,  3,  1, 59, 23, 59, 27,  5,  3, 3…\n",
      "$ EfDIMBM_2018     \u001b[3m\u001b[90m<dbl+lbl>\u001b[39m\u001b[23m 31, 18,  7, 25, 12,  1, 11, 28, 24, 22,  9, 32, 2…\n",
      "$ EfSize           \u001b[3m\u001b[90m<dbl+lbl>\u001b[39m\u001b[23m 6, 4, 1, 5, 2, 1, 2, 2, 6, 4, 2, 4, 3, 2, 3, 2, 3…\n",
      "$ EmpIn            \u001b[3m\u001b[90m<dbl>\u001b[39m\u001b[23m 7.6e+04, 1.2e+04, 1.0e+08, 1.0e+08, 1.0e+08, 1.0e+08,…\n",
      "$ fol              \u001b[3m\u001b[90m<dbl+lbl>\u001b[39m\u001b[23m 1, 1, 2, 1, 2, 1, 1, 1, 1, 1, 2, 1, 2, 2, 1, 1, 2…\n",
      "$ fptwk            \u001b[3m\u001b[90m<dbl+lbl>\u001b[39m\u001b[23m 1, 2, 9, 9, 9, 9, 9, 9, 1, 9, 9, 1, 1, 1, 9, 9, 2…\n",
      "$ Gender           \u001b[3m\u001b[90m<dbl+lbl>\u001b[39m\u001b[23m 2, 1, 1, 2, 2, 1, 1, 1, 2, 2, 2, 1, 2, 2, 1, 1, 1…\n",
      "$ genstat          \u001b[3m\u001b[90m<dbl+lbl>\u001b[39m\u001b[23m 8, 1, 4, 4, 4, 4, 4, 1, 3, 1, 4, 4, 1, 4, 4, 2, 4…\n",
      "$ GovtI            \u001b[3m\u001b[90m<dbl>\u001b[39m\u001b[23m 99999999, 9000, 16300, 1300, 2000, 1000, 900, 9999999…\n",
      "$ GTRfs            \u001b[3m\u001b[90m<dbl>\u001b[39m\u001b[23m 99999999, 20500, 16300, 16400, 22500, 1000, 4200, 460…\n",
      "$ HCORENEED_IND    \u001b[3m\u001b[90m<dbl+lbl>\u001b[39m\u001b[23m   0,   0, 100,   0,   0, 888, 100,   0,   0,   0,…\n",
      "$ hdgree           \u001b[3m\u001b[90m<dbl+lbl>\u001b[39m\u001b[23m  7,  7,  2,  5,  2,  2,  9, 12,  6,  2,  6,  9,  …\n",
      "$ HHInc            \u001b[3m\u001b[90m<dbl+lbl>\u001b[39m\u001b[23m 33, 18,  7, 26, 13, 25, 10, 30, 25, 22,  9, 33, 2…\n",
      "$ HHInc_AT         \u001b[3m\u001b[90m<dbl+lbl>\u001b[39m\u001b[23m 31, 18,  7, 25, 13, 22, 10, 27, 24, 22,  9, 32, 2…\n",
      "$ hhmrkinc         \u001b[3m\u001b[90m<dbl+lbl>\u001b[39m\u001b[23m 33, 14,  1, 19,  8, 20,  2, 30, 12, 20,  1, 33, 2…\n",
      "$ hhsize           \u001b[3m\u001b[90m<dbl+lbl>\u001b[39m\u001b[23m 6, 4, 1, 5, 2, 3, 2, 2, 6, 4, 2, 4, 3, 2, 3, 2, 3…\n",
      "$ hhtype           \u001b[3m\u001b[90m<dbl+lbl>\u001b[39m\u001b[23m 7, 2, 8, 7, 5, 3, 1, 1, 2, 2, 1, 2, 2, 1, 5, 5, 5…\n",
      "$ hlmosten         \u001b[3m\u001b[90m<dbl+lbl>\u001b[39m\u001b[23m 1, 1, 0, 1, 0, 1, 1, 0, 1, 1, 0, 1, 0, 0, 1, 1, 0…\n",
      "$ hlmostfr         \u001b[3m\u001b[90m<dbl+lbl>\u001b[39m\u001b[23m 0, 0, 1, 0, 1, 0, 0, 0, 0, 0, 1, 0, 0, 1, 0, 0, 1…\n",
      "$ hlmostno         \u001b[3m\u001b[90m<dbl+lbl>\u001b[39m\u001b[23m  1,  1,  1,  1,  1,  1,  1,  8,  1,  1,  1,  1,  …\n",
      "$ hlregen          \u001b[3m\u001b[90m<dbl+lbl>\u001b[39m\u001b[23m 0, 0, 0, 0, 0, 0, 0, 1, 0, 0, 0, 0, 0, 0, 0, 0, 0…\n",
      "$ hlregfr          \u001b[3m\u001b[90m<dbl+lbl>\u001b[39m\u001b[23m 0, 0, 0, 0, 0, 0, 0, 0, 0, 0, 0, 0, 1, 0, 0, 0, 0…\n",
      "$ hlregno          \u001b[3m\u001b[90m<dbl+lbl>\u001b[39m\u001b[23m 0, 0, 0, 0, 0, 0, 0, 0, 0, 1, 0, 0, 0, 0, 0, 0, 0…\n",
      "$ IMMCAT5          \u001b[3m\u001b[90m<dbl+lbl>\u001b[39m\u001b[23m 88, 22,  1,  1,  1,  1,  1, 22,  1, 21,  1,  1, 2…\n",
      "$ immstat          \u001b[3m\u001b[90m<dbl+lbl>\u001b[39m\u001b[23m 88,  2,  1,  1,  1,  1,  1,  2,  1,  2,  1,  1,  …\n",
      "$ IncTax           \u001b[3m\u001b[90m<dbl>\u001b[39m\u001b[23m 1.9e+04, 1.0e+03, 1.0e+08, 1.0e+00, 1.0e+08, 1.0e+08,…\n",
      "$ Invst            \u001b[3m\u001b[90m<dbl>\u001b[39m\u001b[23m 99999999, 99999999, 99999999, 99999999, 99999999, 999…\n",
      "$ jobperm          \u001b[3m\u001b[90m<dbl+lbl>\u001b[39m\u001b[23m 2, 1, 9, 9, 9, 9, 9, 9, 2, 1, 9, 2, 2, 1, 9, 9, 2…\n",
      "$ kol              \u001b[3m\u001b[90m<dbl+lbl>\u001b[39m\u001b[23m 1, 1, 2, 1, 2, 1, 1, 1, 1, 1, 3, 1, 2, 2, 1, 3, 3…\n",
      "$ lfact            \u001b[3m\u001b[90m<dbl+lbl>\u001b[39m\u001b[23m 88,  3, 14, 13, 13, 13, 14, 13,  1,  1, 13,  1,  …\n",
      "$ LICO_BT          \u001b[3m\u001b[90m<dbl+lbl>\u001b[39m\u001b[23m 1, 1, 2, 1, 1, 2, 1, 1, 1, 1, 2, 1, 1, 1, 2, 1, 1…\n",
      "$ LICO_AT          \u001b[3m\u001b[90m<dbl+lbl>\u001b[39m\u001b[23m 1, 1, 2, 1, 1, 2, 1, 1, 1, 1, 2, 1, 1, 1, 2, 1, 1…\n",
      "$ liprogtype       \u001b[3m\u001b[90m<dbl+lbl>\u001b[39m\u001b[23m 4, 4, 9, 4, 9, 4, 4, 4, 4, 4, 9, 4, 9, 9, 4, 2, 9…\n",
      "$ LI_ELIG_OML_U18  \u001b[3m\u001b[90m<dbl+lbl>\u001b[39m\u001b[23m 9, 9, 9, 9, 9, 9, 9, 9, 9, 9, 9, 9, 9, 9, 2, 2, 2…\n",
      "$ locstud          \u001b[3m\u001b[90m<dbl+lbl>\u001b[39m\u001b[23m 17, 16, 99,  9, 99, 99,  6, 14,  6, 99,  5,  6, 9…\n",
      "$ LOC_ST_RES       \u001b[3m\u001b[90m<dbl+lbl>\u001b[39m\u001b[23m 3, 3, 4, 1, 4, 4, 2, 3, 1, 4, 1, 1, 4, 4, 9, 4, 4…\n",
      "$ lstwrk           \u001b[3m\u001b[90m<dbl+lbl>\u001b[39m\u001b[23m 8, 3, 4, 1, 1, 1, 4, 1, 3, 3, 1, 3, 3, 3, 9, 4, 3…\n",
      "$ lwmosten         \u001b[3m\u001b[90m<dbl+lbl>\u001b[39m\u001b[23m 1, 1, 9, 9, 9, 9, 9, 9, 1, 1, 9, 1, 0, 0, 9, 9, 0…\n",
      "$ lwmostfr         \u001b[3m\u001b[90m<dbl+lbl>\u001b[39m\u001b[23m 0, 0, 9, 9, 9, 9, 9, 9, 0, 0, 9, 0, 1, 1, 9, 9, 1…\n",
      "$ lwmostno         \u001b[3m\u001b[90m<dbl+lbl>\u001b[39m\u001b[23m 0, 0, 9, 9, 9, 9, 9, 9, 0, 0, 9, 0, 0, 0, 9, 9, 0…\n",
      "$ lwregen          \u001b[3m\u001b[90m<dbl+lbl>\u001b[39m\u001b[23m 0, 0, 9, 9, 9, 9, 9, 9, 0, 0, 9, 0, 0, 0, 9, 9, 0…\n",
      "$ lwregfr          \u001b[3m\u001b[90m<dbl+lbl>\u001b[39m\u001b[23m 0, 0, 9, 9, 9, 9, 9, 9, 0, 0, 9, 0, 0, 0, 9, 9, 0…\n",
      "$ lwregno          \u001b[3m\u001b[90m<dbl+lbl>\u001b[39m\u001b[23m 0, 0, 9, 9, 9, 9, 9, 9, 0, 0, 9, 0, 0, 0, 9, 9, 0…\n",
      "$ LoLIMA           \u001b[3m\u001b[90m<dbl+lbl>\u001b[39m\u001b[23m 1, 1, 2, 1, 1, 1, 2, 1, 1, 1, 2, 1, 1, 1, 2, 1, 1…\n",
      "$ LoLIMB           \u001b[3m\u001b[90m<dbl+lbl>\u001b[39m\u001b[23m 1, 1, 2, 1, 2, 1, 2, 1, 1, 1, 2, 1, 1, 1, 2, 1, 1…\n",
      "$ LOMBM_2018       \u001b[3m\u001b[90m<dbl+lbl>\u001b[39m\u001b[23m 1, 1, 2, 1, 1, 2, 2, 1, 1, 1, 2, 1, 1, 1, 2, 1, 1…\n",
      "$ mode             \u001b[3m\u001b[90m<dbl+lbl>\u001b[39m\u001b[23m 9, 9, 9, 9, 9, 9, 9, 9, 2, 9, 9, 2, 2, 2, 9, 9, 5…\n",
      "$ MTNEn            \u001b[3m\u001b[90m<dbl+lbl>\u001b[39m\u001b[23m 1, 0, 0, 1, 0, 1, 1, 0, 1, 0, 0, 1, 0, 0, 1, 1, 0…\n",
      "$ MTNFr            \u001b[3m\u001b[90m<dbl+lbl>\u001b[39m\u001b[23m 0, 0, 1, 0, 1, 0, 0, 0, 0, 0, 1, 0, 0, 1, 0, 0, 1…\n",
      "$ mtnno            \u001b[3m\u001b[90m<dbl+lbl>\u001b[39m\u001b[23m  1, 26,  1,  1,  1,  1,  1, 14,  1, 21,  1,  1, 1…\n",
      "$ marsth           \u001b[3m\u001b[90m<dbl+lbl>\u001b[39m\u001b[23m 2, 2, 1, 2, 5, 6, 2, 2, 2, 2, 3, 2, 2, 2, 1, 1, 1…\n",
      "$ Mob1             \u001b[3m\u001b[90m<dbl+lbl>\u001b[39m\u001b[23m 8, 1, 4, 1, 1, 1, 1, 1, 1, 1, 1, 1, 1, 1, 2, 1, 1…\n",
      "$ Mob5             \u001b[3m\u001b[90m<dbl+lbl>\u001b[39m\u001b[23m 6, 1, 2, 1, 1, 3, 2, 1, 3, 1, 2, 1, 1, 1, 2, 1, 4…\n",
      "$ MrkInc           \u001b[3m\u001b[90m<dbl>\u001b[39m\u001b[23m 7.6e+04, 1.2e+04, 1.0e+08, 7.0e+03, 1.0e+08, 1.0e+08,…\n",
      "$ naics            \u001b[3m\u001b[90m<dbl+lbl>\u001b[39m\u001b[23m  54,  48, 999, 999, 999, 999, 999, 999,  11,  48,…\n",
      "$ NOC21            \u001b[3m\u001b[90m<dbl+lbl>\u001b[39m\u001b[23m 88, 14, 99, 99, 99, 99, 99, 99, 25,  1, 99,  3,  …\n",
      "$ nol              \u001b[3m\u001b[90m<dbl+lbl>\u001b[39m\u001b[23m  1,  1,  1,  1,  1,  1,  1, 10,  1, 26,  1,  1, 1…\n",
      "$ nos              \u001b[3m\u001b[90m<dbl+lbl>\u001b[39m\u001b[23m 1, 1, 1, 1, 1, 1, 1, 1, 1, 1, 1, 1, 1, 1, 1, 1, 1…\n",
      "$ oasgi            \u001b[3m\u001b[90m<dbl>\u001b[39m\u001b[23m 99999999, 99999999, 99999999, 99999999, 16500, 999999…\n",
      "$ OtInc            \u001b[3m\u001b[90m<dbl>\u001b[39m\u001b[23m 1.0e+08, 1.0e+08, 1.0e+08, 1.0e+08, 1.0e+08, 1.0e+08,…\n",
      "$ PKID25           \u001b[3m\u001b[90m<dbl+lbl>\u001b[39m\u001b[23m 8, 0, 9, 0, 1, 9, 0, 0, 0, 0, 0, 0, 1, 0, 0, 0, 0…\n",
      "$ PKID0_1          \u001b[3m\u001b[90m<dbl+lbl>\u001b[39m\u001b[23m 8, 0, 9, 0, 0, 9, 0, 0, 0, 0, 0, 0, 0, 0, 0, 0, 0…\n",
      "$ PKID15_24        \u001b[3m\u001b[90m<dbl+lbl>\u001b[39m\u001b[23m 8, 0, 9, 0, 0, 9, 0, 0, 0, 0, 0, 1, 0, 0, 0, 1, 1…\n",
      "$ PKID2_5          \u001b[3m\u001b[90m<dbl+lbl>\u001b[39m\u001b[23m 8, 0, 9, 0, 0, 9, 0, 0, 1, 0, 0, 0, 0, 0, 1, 0, 0…\n",
      "$ PKID6_14         \u001b[3m\u001b[90m<dbl+lbl>\u001b[39m\u001b[23m 8, 1, 9, 1, 0, 9, 0, 0, 1, 1, 0, 0, 0, 0, 1, 0, 0…\n",
      "$ pkids            \u001b[3m\u001b[90m<dbl+lbl>\u001b[39m\u001b[23m 8, 1, 9, 1, 1, 9, 0, 0, 1, 1, 0, 1, 1, 0, 1, 1, 1…\n",
      "$ pob              \u001b[3m\u001b[90m<dbl+lbl>\u001b[39m\u001b[23m 88, 28,  1,  1,  1,  1,  1, 11,  1, 12,  1,  1,  …\n",
      "$ POBPAR1          \u001b[3m\u001b[90m<dbl+lbl>\u001b[39m\u001b[23m 8, 5, 1, 1, 1, 1, 1, 3, 1, 3, 1, 1, 2, 1, 1, 2, 1…\n",
      "$ POBPAR2          \u001b[3m\u001b[90m<dbl+lbl>\u001b[39m\u001b[23m 8, 5, 1, 1, 1, 1, 1, 3, 3, 3, 1, 1, 2, 1, 1, 2, 1…\n",
      "$ powst            \u001b[3m\u001b[90m<dbl+lbl>\u001b[39m\u001b[23m 9, 9, 9, 9, 9, 9, 9, 9, 6, 1, 9, 6, 4, 4, 9, 9, 5…\n",
      "$ pr               \u001b[3m\u001b[90m<dbl+lbl>\u001b[39m\u001b[23m 10, 35, 24, 48, 24, 59, 10, 35, 35, 35, 24, 35, 2…\n",
      "$ PR1              \u001b[3m\u001b[90m<dbl+lbl>\u001b[39m\u001b[23m 88, 35, 24, 48, 24, 59, 10, 35, 35, 35, 24, 35, 2…\n",
      "$ PR5              \u001b[3m\u001b[90m<dbl+lbl>\u001b[39m\u001b[23m 99, 35, 24, 48, 24, 59, 10, 35, 35, 35, 24, 35, 2…\n",
      "$ presmortg        \u001b[3m\u001b[90m<dbl+lbl>\u001b[39m\u001b[23m 0, 1, 9, 1, 9, 1, 1, 0, 9, 1, 9, 0, 1, 9, 9, 9, 9…\n",
      "$ prihm            \u001b[3m\u001b[90m<dbl+lbl>\u001b[39m\u001b[23m 0, 0, 1, 1, 1, 0, 0, 1, 1, 0, 1, 1, 0, 0, 9, 0, 0…\n",
      "$ pwdur            \u001b[3m\u001b[90m<dbl+lbl>\u001b[39m\u001b[23m 9, 9, 9, 9, 9, 9, 9, 9, 2, 9, 9, 2, 1, 1, 9, 9, 3…\n",
      "$ pwleave          \u001b[3m\u001b[90m<dbl+lbl>\u001b[39m\u001b[23m 9, 9, 9, 9, 9, 9, 9, 9, 2, 9, 9, 5, 3, 2, 9, 9, 5…\n",
      "$ pwocc            \u001b[3m\u001b[90m<dbl+lbl>\u001b[39m\u001b[23m 9, 9, 9, 9, 9, 9, 9, 9, 1, 9, 9, 1, 1, 1, 9, 9, 1…\n",
      "$ pwpr             \u001b[3m\u001b[90m<dbl+lbl>\u001b[39m\u001b[23m 99, 99, 99, 99, 99, 99, 99, 99, 35, 35, 99, 35, 2…\n",
      "$ regind           \u001b[3m\u001b[90m<dbl+lbl>\u001b[39m\u001b[23m 0, 0, 0, 0, 0, 0, 0, 0, 0, 0, 0, 0, 0, 0, 0, 0, 0…\n",
      "$ relig            \u001b[3m\u001b[90m<dbl+lbl>\u001b[39m\u001b[23m 88, 17, 22, 88,  6, 22,  7, 22, 22,  7,  2,  6, 2…\n",
      "$ repair           \u001b[3m\u001b[90m<dbl+lbl>\u001b[39m\u001b[23m 1, 1, 1, 3, 1, 1, 3, 1, 1, 1, 1, 2, 2, 1, 1, 1, 1…\n",
      "$ room             \u001b[3m\u001b[90m<dbl+lbl>\u001b[39m\u001b[23m 10,  4,  1,  9,  5,  9,  8,  6,  8,  6,  4, 11,  …\n",
      "$ Retir            \u001b[3m\u001b[90m<dbl>\u001b[39m\u001b[23m 1.0e+08, 1.0e+08, 1.0e+08, 6.4e+03, 1.0e+08, 1.0e+08,…\n",
      "$ shelco           \u001b[3m\u001b[90m<dbl>\u001b[39m\u001b[23m 700, 1400, 500, 1700, 1200, 1200, 1800, 600, 2800, 16…\n",
      "$ ssgrad           \u001b[3m\u001b[90m<dbl+lbl>\u001b[39m\u001b[23m  6,  6,  4,  6,  4,  4,  8, 11,  6,  4,  6,  8,  …\n",
      "$ subsidy          \u001b[3m\u001b[90m<dbl+lbl>\u001b[39m\u001b[23m 9, 9, 0, 9, 0, 9, 9, 9, 0, 9, 1, 9, 9, 0, 0, 1, 0…\n",
      "$ SempI            \u001b[3m\u001b[90m<dbl>\u001b[39m\u001b[23m 99999999, 11000, 99999999, 99999999, 99999999, 999999…\n",
      "$ tenur            \u001b[3m\u001b[90m<dbl+lbl>\u001b[39m\u001b[23m 1, 1, 2, 1, 2, 1, 1, 1, 2, 1, 2, 1, 1, 2, 2, 2, 2…\n",
      "$ TotInc           \u001b[3m\u001b[90m<dbl>\u001b[39m\u001b[23m 7.6e+04, 3.2e+04, 1.7e+04, 2.2e+04, 2.2e+04, 1.0e+03,…\n",
      "$ TotInc_AT        \u001b[3m\u001b[90m<dbl>\u001b[39m\u001b[23m 5.7e+04, 3.1e+04, 1.6e+04, 2.2e+04, 2.3e+04, 1.0e+03,…\n",
      "$ vismin           \u001b[3m\u001b[90m<dbl+lbl>\u001b[39m\u001b[23m 88,  2,  1, 88,  1,  1,  1,  1,  1,  1,  1,  1,  …\n",
      "$ Value            \u001b[3m\u001b[90m<dbl>\u001b[39m\u001b[23m 626720, 510000, 99999999, 310000, 99999999, 910000, 1…\n",
      "$ wkswrk           \u001b[3m\u001b[90m<dbl+lbl>\u001b[39m\u001b[23m 8, 5, 9, 9, 9, 9, 9, 9, 2, 0, 9, 6, 6, 6, 9, 9, 6…\n",
      "$ wrkact           \u001b[3m\u001b[90m<dbl+lbl>\u001b[39m\u001b[23m 88, 10,  1,  1,  1,  1,  1,  1,  3,  2,  1, 11, 1…\n",
      "$ Wages            \u001b[3m\u001b[90m<dbl>\u001b[39m\u001b[23m 7.6e+04, 1.0e+08, 1.0e+08, 1.0e+08, 1.0e+08, 1.0e+08,…\n",
      "$ yrim             \u001b[3m\u001b[90m<dbl+lbl>\u001b[39m\u001b[23m 2008, 2005, 9999, 9999, 9999, 9999, 9999,    9, 9…\n",
      "$ weight           \u001b[3m\u001b[90m<dbl>\u001b[39m\u001b[23m 37.04973, 37.03785, 37.05007, 37.01091, 37.05007, 37.…\n"
     ]
    }
   ],
   "source": [
    "# Read in the dataset from relative path\n",
    "census_data <- read_dta(\"../census_2021_indiv_Stata_dta_v2/cen_ind_2021_pumf_v2.dta\")|>\n",
    "    select(ppsort:weight)|>\n",
    "    glimpse()"
   ]
  },
  {
   "cell_type": "code",
   "execution_count": 3,
   "metadata": {
    "vscode": {
     "languageId": "r"
    }
   },
   "outputs": [
    {
     "data": {
      "image/png": "[encoded data removed]",
      "text/plain": [
       "plot without title"
      ]
     },
     "metadata": {
      "image/png": {
       "height": 540,
       "width": 960
      }
     },
     "output_type": "display_data"
    }
   ],
   "source": [
    "# We want to show the distribution of wages against education with boxplot\n",
    "options(repr.plot.width = 16, repr.plot.height = 9)\n",
    "\n",
    "# In this field we want to drop NA data and confounding data\n",
    "census_data <- census_data|>\n",
    "    filter(hdgree != 99 & hdgree  != 88 & !is.na(hdgree))|> # Filter out NA and confounding groups\n",
    "    filter(1 < Wages & Wages != 88888888 & Wages != 99999999) # Filter out special coding for NA or non labour force data\n",
    "\n",
    "plot_data <- census_data|>\n",
    "    select(hdgree, Wages)|>\n",
    "    mutate(hdgree = as_factor(hdgree))|>\n",
    "    mutate(Wages = Wages/1000)\n",
    "\n",
    "wages_education_dist <- plot_data|>\n",
    "    ggplot(aes(x = hdgree, y = Wages, fill = hdgree)) + \n",
    "    geom_boxplot(alpha = 0.3, outlier.shape = 16, outlier.colour = \"black\", color = \"black\") + \n",
    "    scale_fill_grey(start = 0.3, end = 0.9) + \n",
    "    scale_y_log10() + \n",
    "    labs(\n",
    "        title = \"Distribution of Wages by Education Level\",\n",
    "        subtitle = \"Comparing log-transformed annual wages (in thousands of dollars)\",\n",
    "        x = \"Highest Education Level Attained\",\n",
    "        y = \"Log Wages (Thousands of Dollars Per Year)\"\n",
    "    ) + \n",
    "    theme_minimal() + \n",
    "    theme(plot.title = element_text(hjust = 0.5, size = 16, face = \"bold\"), \n",
    "        plot.subtitle = element_text(hjust = 0.5, size = 12, face = \"italic\"),\n",
    "        axis.text.x = element_text(angle = 60, hjust = 1), \n",
    "        legend.position = \"none\")\n",
    "\n",
    "wages_education_dist"
   ]
  },
  {
   "cell_type": "markdown",
   "metadata": {},
   "source": [
    "From the plot above we already noticed that people who received university education tend to have higher wages, but we want to be more specific with the support of data."
   ]
  },
  {
   "cell_type": "code",
   "execution_count": 4,
   "metadata": {
    "vscode": {
     "languageId": "r"
    }
   },
   "outputs": [
    {
     "data": {
      "text/html": [
       "<table class=\"dataframe\">\n",
       "<caption>A tibble: 13 × 2</caption>\n",
       "<thead>\n",
       "\t<tr><th scope=col>hdgree</th><th scope=col>average_wage</th></tr>\n",
       "\t<tr><th scope=col>&lt;fct&gt;</th><th scope=col>&lt;dbl&gt;</th></tr>\n",
       "</thead>\n",
       "<tbody>\n",
       "\t<tr><td>No certificate, diploma or degree                                                                         </td><td> 29050.45</td></tr>\n",
       "\t<tr><td>High (secondary) school diploma or equivalency certificate                                                </td><td> 38059.68</td></tr>\n",
       "\t<tr><td>Non-apprenticeship trades certificate or diploma                                                          </td><td> 44915.98</td></tr>\n",
       "\t<tr><td> Apprenticeship certificate                                                                               </td><td> 60956.33</td></tr>\n",
       "\t<tr><td>Program of 3 months to less than 1 year (College, CEGEP and other non-university certificates or diplomas)</td><td> 45603.53</td></tr>\n",
       "\t<tr><td>Program of 1 to 2 years (College, CEGEP and other non-university certificates or diplomas)                </td><td> 49924.70</td></tr>\n",
       "\t<tr><td>Program of more than 2 years (College, CEGEP and other non-university certificates or diplomas)           </td><td> 57483.91</td></tr>\n",
       "\t<tr><td>University certificate or diploma below bachelor level                                                    </td><td> 54088.91</td></tr>\n",
       "\t<tr><td>Bachelor's degree                                                                                         </td><td> 69056.57</td></tr>\n",
       "\t<tr><td>University certificate or diploma above bachelor level                                                    </td><td> 75145.28</td></tr>\n",
       "\t<tr><td>Degree in medicine, dentistry, veterinary medicine or optometry                                           </td><td>101748.30</td></tr>\n",
       "\t<tr><td>Master's degree                                                                                           </td><td> 85157.80</td></tr>\n",
       "\t<tr><td>Earned doctorate                                                                                          </td><td>106453.31</td></tr>\n",
       "</tbody>\n",
       "</table>\n"
      ],
      "text/latex": [
       "A tibble: 13 × 2\n",
       "\\begin{tabular}{ll}\n",
       " hdgree & average\\_wage\\\\\n",
       " <fct> & <dbl>\\\\\n",
       "\\hline\n",
       "\t No certificate, diploma or degree                                                                          &  29050.45\\\\\n",
       "\t High (secondary) school diploma or equivalency certificate                                                 &  38059.68\\\\\n",
       "\t Non-apprenticeship trades certificate or diploma                                                           &  44915.98\\\\\n",
       "\t  Apprenticeship certificate                                                                                &  60956.33\\\\\n",
       "\t Program of 3 months to less than 1 year (College, CEGEP and other non-university certificates or diplomas) &  45603.53\\\\\n",
       "\t Program of 1 to 2 years (College, CEGEP and other non-university certificates or diplomas)                 &  49924.70\\\\\n",
       "\t Program of more than 2 years (College, CEGEP and other non-university certificates or diplomas)            &  57483.91\\\\\n",
       "\t University certificate or diploma below bachelor level                                                     &  54088.91\\\\\n",
       "\t Bachelor's degree                                                                                          &  69056.57\\\\\n",
       "\t University certificate or diploma above bachelor level                                                     &  75145.28\\\\\n",
       "\t Degree in medicine, dentistry, veterinary medicine or optometry                                            & 101748.30\\\\\n",
       "\t Master's degree                                                                                            &  85157.80\\\\\n",
       "\t Earned doctorate                                                                                           & 106453.31\\\\\n",
       "\\end{tabular}\n"
      ],
      "text/markdown": [
       "\n",
       "A tibble: 13 × 2\n",
       "\n",
       "| hdgree &lt;fct&gt; | average_wage &lt;dbl&gt; |\n",
       "|---|---|\n",
       "| No certificate, diploma or degree                                                                          |  29050.45 |\n",
       "| High (secondary) school diploma or equivalency certificate                                                 |  38059.68 |\n",
       "| Non-apprenticeship trades certificate or diploma                                                           |  44915.98 |\n",
       "|  Apprenticeship certificate                                                                                |  60956.33 |\n",
       "| Program of 3 months to less than 1 year (College, CEGEP and other non-university certificates or diplomas) |  45603.53 |\n",
       "| Program of 1 to 2 years (College, CEGEP and other non-university certificates or diplomas)                 |  49924.70 |\n",
       "| Program of more than 2 years (College, CEGEP and other non-university certificates or diplomas)            |  57483.91 |\n",
       "| University certificate or diploma below bachelor level                                                     |  54088.91 |\n",
       "| Bachelor's degree                                                                                          |  69056.57 |\n",
       "| University certificate or diploma above bachelor level                                                     |  75145.28 |\n",
       "| Degree in medicine, dentistry, veterinary medicine or optometry                                            | 101748.30 |\n",
       "| Master's degree                                                                                            |  85157.80 |\n",
       "| Earned doctorate                                                                                           | 106453.31 |\n",
       "\n"
      ],
      "text/plain": [
       "   hdgree                                                                                                    \n",
       "1  No certificate, diploma or degree                                                                         \n",
       "2  High (secondary) school diploma or equivalency certificate                                                \n",
       "3  Non-apprenticeship trades certificate or diploma                                                          \n",
       "4   Apprenticeship certificate                                                                               \n",
       "5  Program of 3 months to less than 1 year (College, CEGEP and other non-university certificates or diplomas)\n",
       "6  Program of 1 to 2 years (College, CEGEP and other non-university certificates or diplomas)                \n",
       "7  Program of more than 2 years (College, CEGEP and other non-university certificates or diplomas)           \n",
       "8  University certificate or diploma below bachelor level                                                    \n",
       "9  Bachelor's degree                                                                                         \n",
       "10 University certificate or diploma above bachelor level                                                    \n",
       "11 Degree in medicine, dentistry, veterinary medicine or optometry                                           \n",
       "12 Master's degree                                                                                           \n",
       "13 Earned doctorate                                                                                          \n",
       "   average_wage\n",
       "1   29050.45   \n",
       "2   38059.68   \n",
       "3   44915.98   \n",
       "4   60956.33   \n",
       "5   45603.53   \n",
       "6   49924.70   \n",
       "7   57483.91   \n",
       "8   54088.91   \n",
       "9   69056.57   \n",
       "10  75145.28   \n",
       "11 101748.30   \n",
       "12  85157.80   \n",
       "13 106453.31   "
      ]
     },
     "metadata": {},
     "output_type": "display_data"
    }
   ],
   "source": [
    "# We calculate the average wage data based on highest education level\n",
    "average_wages <- census_data|>\n",
    "    group_by(hdgree)|>\n",
    "    summarize(average_wage = mean(Wages))|>\n",
    "    mutate(hdgree = as_factor(hdgree))\n",
    "\n",
    "average_wages"
   ]
  },
  {
   "cell_type": "code",
   "execution_count": 5,
   "metadata": {
    "vscode": {
     "languageId": "r"
    }
   },
   "outputs": [
    {
     "name": "stdout",
     "output_type": "stream",
     "text": [
      "[1] \"People who attended university:  c(12, 9, 8, 13, 11, 10) , with number of observations:  172276\"\n",
      "[1] \"People who didn't attend university:  c(7, 6, 2, 1, 4, 3, 5) , with number of observations:  333567\"\n"
     ]
    }
   ],
   "source": [
    "# Take the subpopulation of those who attended university and those who didn't\n",
    "# By referring to the document, I confirmed it was recorded under hdgree variable with code >= 8\n",
    "high_edu_data <- census_data|>\n",
    "    filter(hdgree >= 8)\n",
    "\n",
    "print(paste(\"People who attended university: \", distinct(high_edu_data, hdgree), \", with number of observations: \", nrow(high_edu_data)))\n",
    "\n",
    "# In this field we want to drop NA data and confounding data\n",
    "low_edu_data <- census_data|>\n",
    "    filter(hdgree < 8)\n",
    "\n",
    "print(paste(\"People who didn't attend university: \", distinct(low_edu_data, hdgree), \", with number of observations: \", nrow(low_edu_data)))"
   ]
  },
  {
   "cell_type": "code",
   "execution_count": 6,
   "metadata": {
    "vscode": {
     "languageId": "r"
    }
   },
   "outputs": [
    {
     "name": "stdout",
     "output_type": "stream",
     "text": [
      "[1] \"The mean wages for those who received university education is: $ 72805.37\"\n",
      "[1] \"The mean wages for those who didn't receive university education is: $ 43223\"\n",
      "[1] \"The difference in mean wages between those who received university education and those who didn't is: $ 29582.37\"\n"
     ]
    }
   ],
   "source": [
    "# We begin by making the direct comparison of average wages\n",
    "uni_avg_income <- mean(high_edu_data$Wages)\n",
    "\n",
    "print(paste(\"The mean wages for those who received university education is: $\", round(uni_avg_income,2)))\n",
    "\n",
    "non_uni_avg_income <- mean(low_edu_data$Wages)\n",
    "\n",
    "print(paste(\"The mean wages for those who didn't receive university education is: $\", round(non_uni_avg_income,2)))\n",
    "\n",
    "income_difference <- uni_avg_income - non_uni_avg_income\n",
    "\n",
    "print(paste(\"The difference in mean wages between those who received university education and those who didn't is: $\", round(income_difference,2)))"
   ]
  },
  {
   "cell_type": "code",
   "execution_count": 7,
   "metadata": {
    "vscode": {
     "languageId": "r"
    }
   },
   "outputs": [
    {
     "data": {
      "text/html": [
       "<table class=\"dataframe\">\n",
       "<caption>A tibble: 1 × 3</caption>\n",
       "<thead>\n",
       "\t<tr><th scope=col>uni_average_wages</th><th scope=col>non_uni_avg_wages</th><th scope=col>wage_difference</th></tr>\n",
       "\t<tr><th scope=col>&lt;dbl&gt;</th><th scope=col>&lt;dbl&gt;</th><th scope=col>&lt;dbl&gt;</th></tr>\n",
       "</thead>\n",
       "<tbody>\n",
       "\t<tr><td>72805.37</td><td>43223</td><td>29582.37</td></tr>\n",
       "</tbody>\n",
       "</table>\n"
      ],
      "text/latex": [
       "A tibble: 1 × 3\n",
       "\\begin{tabular}{lll}\n",
       " uni\\_average\\_wages & non\\_uni\\_avg\\_wages & wage\\_difference\\\\\n",
       " <dbl> & <dbl> & <dbl>\\\\\n",
       "\\hline\n",
       "\t 72805.37 & 43223 & 29582.37\\\\\n",
       "\\end{tabular}\n"
      ],
      "text/markdown": [
       "\n",
       "A tibble: 1 × 3\n",
       "\n",
       "| uni_average_wages &lt;dbl&gt; | non_uni_avg_wages &lt;dbl&gt; | wage_difference &lt;dbl&gt; |\n",
       "|---|---|---|\n",
       "| 72805.37 | 43223 | 29582.37 |\n",
       "\n"
      ],
      "text/plain": [
       "  uni_average_wages non_uni_avg_wages wage_difference\n",
       "1 72805.37          43223             29582.37       "
      ]
     },
     "metadata": {},
     "output_type": "display_data"
    }
   ],
   "source": [
    "# Calculate the wage difference \n",
    "average_wages <- census_data|>\n",
    "    summarize(uni_average_wages = mean(Wages[hdgree >= 8]),\n",
    "    non_uni_avg_wages = mean(Wages[hdgree < 8]),\n",
    "    wage_difference = uni_average_wages - non_uni_avg_wages)\n",
    "\n",
    "average_wages"
   ]
  },
  {
   "cell_type": "code",
   "execution_count": 8,
   "metadata": {
    "vscode": {
     "languageId": "r"
    }
   },
   "outputs": [
    {
     "data": {
      "text/plain": [
       "\\begin{table}[!h]\n",
       "\\centering\n",
       "\\caption{Average Wages by University Education (CAD)}\n",
       "\\centering\n",
       "\\begin{tabular}[t]{rrr}\n",
       "\\toprule\n",
       "University Average Wages & Non-University Average Wages & Wage Difference\\\\\n",
       "\\midrule\n",
       "\\cellcolor{gray!10}{72805.37} & \\cellcolor{gray!10}{43223} & \\cellcolor{gray!10}{29582.37}\\\\\n",
       "\\bottomrule\n",
       "\\end{tabular}\n",
       "\\end{table}"
      ]
     },
     "metadata": {},
     "output_type": "display_data"
    }
   ],
   "source": [
    "# Generate a summary table\n",
    "summary_table <- average_wages |>\n",
    "    kable(format = \"latex\", booktabs = TRUE, digits = 2,\n",
    "          col.names = c(\n",
    "            \"University Average Wages\", \n",
    "            \"Non-University Average Wages\",\n",
    "            \"Wage Difference\"\n",
    "          ),\n",
    "          caption = \"Average Wages by University Education (CAD)\",\n",
    "          escape = FALSE) |>\n",
    "    kable_styling(latex_options = c(\"hold_position\", \"striped\"))\n",
    "\n",
    "\n",
    "\n",
    "# Print LaTeX output\n",
    "summary_table"
   ]
  },
  {
   "cell_type": "markdown",
   "metadata": {},
   "source": [
    "Therefore, it is obvious that people who received university education earn more than those who didn't. We can use visualization to improve the analysis."
   ]
  },
  {
   "cell_type": "code",
   "execution_count": 9,
   "metadata": {
    "vscode": {
     "languageId": "r"
    }
   },
   "outputs": [
    {
     "data": {
      "image/png": "[encoded data removed]",
      "text/plain": [
       "plot without title"
      ]
     },
     "metadata": {
      "image/png": {
       "height": 540,
       "width": 960
      }
     },
     "output_type": "display_data"
    }
   ],
   "source": [
    "# We do a visualization of those who received university education and those who are not\n",
    "census_data <- census_data|>\n",
    "    mutate(uni = ifelse(hdgree >= 8, \"University Educated\", \"Non-University Educated\"))\n",
    "\n",
    "plot_data <- census_data|>\n",
    "    select(uni, Wages)|>\n",
    "    mutate(uni = as_factor(uni))|>\n",
    "    mutate(Wages = Wages/1000)\n",
    "\n",
    "uni_dist <- plot_data|>\n",
    "    ggplot(aes(x = uni, y = Wages, fill = uni)) + \n",
    "    geom_boxplot(alpha = 0.3, outlier.shape = 16, outlier.colour = \"black\", color = \"black\") + \n",
    "    scale_fill_grey(start = 0.3, end = 0.9) +\n",
    "    labs(\n",
    "        title = \"Distribution of Wages by Education Level\",\n",
    "        subtitle = \"Comparing log-transformed annual wages (in thousands of dollars)\",\n",
    "        x = \"Highest Education Level Attained\",\n",
    "        y = \"Log Wages (Thousands of Dollars Per Year)\"\n",
    "    ) + \n",
    "    scale_y_log10() + \n",
    "    theme_minimal() + \n",
    "    theme(plot.title = element_text(hjust = 0.5, size = 16, face = \"bold\"), \n",
    "        plot.subtitle = element_text(hjust = 0.5, size = 12, face = \"italic\"),\n",
    "        axis.text.x = element_text(angle = 0, hjust = 1), \n",
    "        legend.position = \"none\")\n",
    "\n",
    "uni_dist"
   ]
  },
  {
   "cell_type": "code",
   "execution_count": 10,
   "metadata": {
    "vscode": {
     "languageId": "r"
    }
   },
   "outputs": [
    {
     "data": {
      "image/png": "[encoded data removed]",
      "text/plain": [
       "plot without title"
      ]
     },
     "metadata": {
      "image/png": {
       "height": 540,
       "width": 960
      }
     },
     "output_type": "display_data"
    }
   ],
   "source": [
    "# Visualize the PDF of Wage distribution conditional on education level\n",
    "ggplot(census_data, aes(x = Wages, fill = uni)) +\n",
    "    geom_density(alpha = 0.3) +  \n",
    "    scale_fill_grey(start = 0.3, end = 0.9) +\n",
    "    labs(title = \"PDF of Wages by Education Level\", x = \"Wages\", y = \"Density\", fill = \"Education Level\") +\n",
    "    theme_minimal() +\n",
    "        theme(plot.title = element_text(hjust = 0.5, size = 16, face = \"bold\"), \n",
    "        axis.text.x = element_text(angle = 0, hjust = 1))"
   ]
  },
  {
   "cell_type": "markdown",
   "metadata": {},
   "source": [
    "Therefore, we may conclude that if we simply take \"receiving university education\" as the treatment, we indeed observed higher average wages as the outcome.\n",
    "\n",
    "However, it is noticeable that the selection bias attributable to failure in balancing does exist in this analysis. \n",
    "\n",
    "For example, we didn't control for various factors that may correlate with the potential outcome such as gender, nationality, marriage and so on. \n",
    "\n",
    "It is also noticeable that the treatment isn't randomly assigned, but involve endogeneity and confoundedness, such as cleverness of the individual may be a cause to both the university education and a higher income.\n",
    "\n",
    "Furthermore, the data is itself unbalanced in terms of the proportion. We noticed there are 172276 observations with university level (and above) education, while there are 333567 observations without university education. This would lead to a selection bias itself.\n",
    "\n",
    "I can show the existence of selection bias with examples below."
   ]
  },
  {
   "cell_type": "code",
   "execution_count": 11,
   "metadata": {
    "vscode": {
     "languageId": "r"
    }
   },
   "outputs": [
    {
     "data": {
      "text/html": [
       "<table class=\"dataframe\">\n",
       "<caption>A tibble: 1 × 4</caption>\n",
       "<thead>\n",
       "\t<tr><th scope=col>university_count</th><th scope=col>non_uni_count</th><th scope=col>uni_prop</th><th scope=col>non_uni_prop</th></tr>\n",
       "\t<tr><th scope=col>&lt;int&gt;</th><th scope=col>&lt;int&gt;</th><th scope=col>&lt;dbl&gt;</th><th scope=col>&lt;dbl&gt;</th></tr>\n",
       "</thead>\n",
       "<tbody>\n",
       "\t<tr><td>172276</td><td>333567</td><td>0.3405721</td><td>0.6594279</td></tr>\n",
       "</tbody>\n",
       "</table>\n"
      ],
      "text/latex": [
       "A tibble: 1 × 4\n",
       "\\begin{tabular}{llll}\n",
       " university\\_count & non\\_uni\\_count & uni\\_prop & non\\_uni\\_prop\\\\\n",
       " <int> & <int> & <dbl> & <dbl>\\\\\n",
       "\\hline\n",
       "\t 172276 & 333567 & 0.3405721 & 0.6594279\\\\\n",
       "\\end{tabular}\n"
      ],
      "text/markdown": [
       "\n",
       "A tibble: 1 × 4\n",
       "\n",
       "| university_count &lt;int&gt; | non_uni_count &lt;int&gt; | uni_prop &lt;dbl&gt; | non_uni_prop &lt;dbl&gt; |\n",
       "|---|---|---|---|\n",
       "| 172276 | 333567 | 0.3405721 | 0.6594279 |\n",
       "\n"
      ],
      "text/plain": [
       "  university_count non_uni_count uni_prop  non_uni_prop\n",
       "1 172276           333567        0.3405721 0.6594279   "
      ]
     },
     "metadata": {},
     "output_type": "display_data"
    }
   ],
   "source": [
    "# The inbalance in treatment distribution\n",
    "university_distribution <- census_data|>\n",
    "    summarize(university_count = sum(hdgree >= 8),\n",
    "    non_uni_count = sum(hdgree < 8),\n",
    "    uni_prop = university_count/nrow(census_data),\n",
    "    non_uni_prop = non_uni_count/nrow(census_data))\n",
    "\n",
    "university_distribution"
   ]
  },
  {
   "cell_type": "code",
   "execution_count": 12,
   "metadata": {
    "vscode": {
     "languageId": "r"
    }
   },
   "outputs": [
    {
     "data": {
      "text/plain": [
       "\\begin{table}[!h]\n",
       "\\centering\n",
       "\\caption{Distribution of University and Non-University Graduates}\n",
       "\\centering\n",
       "\\begin{tabular}[t]{rrrr}\n",
       "\\toprule\n",
       "University Count & Non-University Count & Proportion with University Degree & Proportion without University Degree\\\\\n",
       "\\midrule\n",
       "\\cellcolor{gray!10}{172276} & \\cellcolor{gray!10}{333567} & \\cellcolor{gray!10}{0.341} & \\cellcolor{gray!10}{0.659}\\\\\n",
       "\\bottomrule\n",
       "\\end{tabular}\n",
       "\\end{table}"
      ]
     },
     "metadata": {},
     "output_type": "display_data"
    }
   ],
   "source": [
    "# Create a LaTeX-formatted table\n",
    "university_table <- university_distribution |>\n",
    "    kable(format = \"latex\", booktabs = TRUE, digits = 3,\n",
    "          col.names = c(\"University Count\", \"Non-University Count\", \n",
    "                        \"Proportion with University Degree\", \"Proportion without University Degree\"),\n",
    "          caption = \"Distribution of University and Non-University Graduates\") |>\n",
    "    kable_styling(latex_options = c(\"hold_position\", \"striped\"))\n",
    "\n",
    "# Print the table\n",
    "university_table"
   ]
  },
  {
   "cell_type": "code",
   "execution_count": 13,
   "metadata": {
    "vscode": {
     "languageId": "r"
    }
   },
   "outputs": [
    {
     "name": "stdout",
     "output_type": "stream",
     "text": [
      "[1] \"We noticed the proportion of born citizen who attended university is:  0.281273549359457 , the proportion of immigrant who attended university is:  0.479119931928436 , and the proportion of non-citizen, non-immigrant who attended university is:  0.527557130636686 .\"\n"
     ]
    },
    {
     "data": {
      "text/html": [
       "<table class=\"dataframe\">\n",
       "<caption>A tibble: 3 × 4</caption>\n",
       "<thead>\n",
       "\t<tr><th scope=col>Citizen</th><th scope=col>prop_uni</th><th scope=col>average_wages</th><th scope=col>average_wages_uni</th></tr>\n",
       "\t<tr><th scope=col>&lt;fct&gt;</th><th scope=col>&lt;dbl&gt;</th><th scope=col>&lt;dbl&gt;</th><th scope=col>&lt;dbl&gt;</th></tr>\n",
       "</thead>\n",
       "<tbody>\n",
       "\t<tr><td>Canadian citizens by birth         </td><td>0.2812735</td><td>54166.00</td><td>78825.10</td></tr>\n",
       "\t<tr><td>Canadian citizens by naturalization</td><td>0.4791199</td><td>56931.94</td><td>72958.59</td></tr>\n",
       "\t<tr><td>Not a Canadian citizen             </td><td>0.5275571</td><td>40124.59</td><td>48607.34</td></tr>\n",
       "</tbody>\n",
       "</table>\n"
      ],
      "text/latex": [
       "A tibble: 3 × 4\n",
       "\\begin{tabular}{llll}\n",
       " Citizen & prop\\_uni & average\\_wages & average\\_wages\\_uni\\\\\n",
       " <fct> & <dbl> & <dbl> & <dbl>\\\\\n",
       "\\hline\n",
       "\t Canadian citizens by birth          & 0.2812735 & 54166.00 & 78825.10\\\\\n",
       "\t Canadian citizens by naturalization & 0.4791199 & 56931.94 & 72958.59\\\\\n",
       "\t Not a Canadian citizen              & 0.5275571 & 40124.59 & 48607.34\\\\\n",
       "\\end{tabular}\n"
      ],
      "text/markdown": [
       "\n",
       "A tibble: 3 × 4\n",
       "\n",
       "| Citizen &lt;fct&gt; | prop_uni &lt;dbl&gt; | average_wages &lt;dbl&gt; | average_wages_uni &lt;dbl&gt; |\n",
       "|---|---|---|---|\n",
       "| Canadian citizens by birth          | 0.2812735 | 54166.00 | 78825.10 |\n",
       "| Canadian citizens by naturalization | 0.4791199 | 56931.94 | 72958.59 |\n",
       "| Not a Canadian citizen              | 0.5275571 | 40124.59 | 48607.34 |\n",
       "\n"
      ],
      "text/plain": [
       "  Citizen                             prop_uni  average_wages average_wages_uni\n",
       "1 Canadian citizens by birth          0.2812735 54166.00      78825.10         \n",
       "2 Canadian citizens by naturalization 0.4791199 56931.94      72958.59         \n",
       "3 Not a Canadian citizen              0.5275571 40124.59      48607.34         "
      ]
     },
     "metadata": {},
     "output_type": "display_data"
    }
   ],
   "source": [
    "# We can also show the existence of bias due not taking into account other factors\n",
    "\n",
    "prop_imm_uni <- sum(high_edu_data$Citizen == 2)/sum(census_data$Citizen == 2)\n",
    "\n",
    "prop_born_uni <- sum(high_edu_data$Citizen == 1)/sum(census_data$Citizen == 1)\n",
    "\n",
    "prop_neither_uni <- sum(high_edu_data$Citizen == 3)/sum(census_data$Citizen == 3)\n",
    "\n",
    "average_wages_by_citizenship <- census_data|>\n",
    "    group_by(Citizen)|>\n",
    "    summarize(prop_uni = sum(hdgree >= 8)/n(),\n",
    "        average_wages = mean(Wages),\n",
    "        average_wages_uni = mean(Wages[hdgree >= 8]))|>\n",
    "    mutate(Citizen = as_factor(Citizen))\n",
    "\n",
    "print(paste(\"We noticed the proportion of born citizen who attended university is: \", prop_born_uni,\n",
    "    \", the proportion of immigrant who attended university is: \", prop_imm_uni,\n",
    "    \", and the proportion of non-citizen, non-immigrant who attended university is: \", prop_neither_uni, \".\"))\n",
    "\n",
    "average_wages_by_citizenship"
   ]
  },
  {
   "cell_type": "code",
   "execution_count": 14,
   "metadata": {
    "vscode": {
     "languageId": "r"
    }
   },
   "outputs": [
    {
     "data": {
      "text/plain": [
       "\\begin{table}[!h]\n",
       "\\centering\n",
       "\\caption{Average Wages and University Education by Citizenship}\n",
       "\\centering\n",
       "\\begin{tabular}[t]{lrrr}\n",
       "\\toprule\n",
       "Citizenship Status & Proportion with \\\\ University Degree & Average Wages \\\\ (CAD) & Average Wages With \\\\ University Degree (CAD)\\\\\n",
       "\\midrule\n",
       "\\cellcolor{gray!10}{Canadian citizens by birth} & \\cellcolor{gray!10}{0.28} & \\cellcolor{gray!10}{54166.00} & \\cellcolor{gray!10}{78825.10}\\\\\n",
       "Canadian citizens by naturalization & 0.48 & 56931.94 & 72958.59\\\\\n",
       "\\cellcolor{gray!10}{Not a Canadian citizen} & \\cellcolor{gray!10}{0.53} & \\cellcolor{gray!10}{40124.59} & \\cellcolor{gray!10}{48607.34}\\\\\n",
       "\\bottomrule\n",
       "\\end{tabular}\n",
       "\\end{table}"
      ]
     },
     "metadata": {},
     "output_type": "display_data"
    }
   ],
   "source": [
    "# Generate a summary table\n",
    "latex_table <- average_wages_by_citizenship |>\n",
    "    kable(format = \"latex\", booktabs = TRUE, digits = 2,\n",
    "          col.names = c(\n",
    "              \"Citizenship Status\", \n",
    "              \"Proportion with \\\\\\\\ University Degree\", \n",
    "              \"Average Wages \\\\\\\\ (CAD)\", \n",
    "              \"Average Wages With \\\\\\\\ University Degree (CAD)\"\n",
    "          ),\n",
    "          caption = \"Average Wages and University Education by Citizenship\",\n",
    "          escape = FALSE) |>\n",
    "    kable_styling(latex_options = c(\"hold_position\", \"striped\"))\n",
    "\n",
    "\n",
    "\n",
    "# Print LaTeX output\n",
    "latex_table"
   ]
  },
  {
   "cell_type": "markdown",
   "metadata": {},
   "source": [
    "Therefore, conditional on the citizenship status, we can observe a clear bias that is correlated to the treatment.\n",
    "\n",
    "We conclude that although we observed large average treatment effect in the analysis, it's likely to be very biased because we didn't solve the balancing problem by introducing good control. "
   ]
  }
 ],
 "metadata": {
  "kernelspec": {
   "display_name": "R",
   "language": "R",
   "name": "ir"
  },
  "language_info": {
   "codemirror_mode": "r",
   "file_extension": ".r",
   "mimetype": "text/x-r-source",
   "name": "R",
   "pygments_lexer": "r",
   "version": "4.4.1"
  }
 },
 "nbformat": 4,
 "nbformat_minor": 2
}

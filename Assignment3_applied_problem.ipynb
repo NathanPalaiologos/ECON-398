{
 "cells": [
  {
   "cell_type": "code",
   "execution_count": 1,
   "metadata": {
    "vscode": {
     "languageId": "r"
    }
   },
   "outputs": [
    {
     "name": "stderr",
     "output_type": "stream",
     "text": [
      "Warning message:\n",
      "\"package 'tidyverse' was built under R version 4.4.2\"\n",
      "Warning message:\n",
      "\"package 'ggplot2' was built under R version 4.4.2\"\n",
      "Warning message:\n",
      "\"package 'dplyr' was built under R version 4.4.2\"\n",
      "── \u001b[1mAttaching core tidyverse packages\u001b[22m ──────────────────────── tidyverse 2.0.0 ──\n",
      "\u001b[32m✔\u001b[39m \u001b[34mdplyr    \u001b[39m 1.1.4     \u001b[32m✔\u001b[39m \u001b[34mreadr    \u001b[39m 2.1.5\n",
      "\u001b[32m✔\u001b[39m \u001b[34mforcats  \u001b[39m 1.0.0     \u001b[32m✔\u001b[39m \u001b[34mstringr  \u001b[39m 1.5.1\n",
      "\u001b[32m✔\u001b[39m \u001b[34mggplot2  \u001b[39m 3.5.1     \u001b[32m✔\u001b[39m \u001b[34mtibble   \u001b[39m 3.2.1\n",
      "\u001b[32m✔\u001b[39m \u001b[34mlubridate\u001b[39m 1.9.3     \u001b[32m✔\u001b[39m \u001b[34mtidyr    \u001b[39m 1.3.1\n",
      "\u001b[32m✔\u001b[39m \u001b[34mpurrr    \u001b[39m 1.0.2     \n",
      "── \u001b[1mConflicts\u001b[22m ────────────────────────────────────────── tidyverse_conflicts() ──\n",
      "\u001b[31m✖\u001b[39m \u001b[34mdplyr\u001b[39m::\u001b[32mfilter()\u001b[39m masks \u001b[34mstats\u001b[39m::filter()\n",
      "\u001b[31m✖\u001b[39m \u001b[34mdplyr\u001b[39m::\u001b[32mlag()\u001b[39m    masks \u001b[34mstats\u001b[39m::lag()\n",
      "\u001b[36mℹ\u001b[39m Use the conflicted package (\u001b[3m\u001b[34m<http://conflicted.r-lib.org/>\u001b[39m\u001b[23m) to force all conflicts to become errors\n",
      "\n",
      "Please cite as: \n",
      "\n",
      "\n",
      " Hlavac, Marek (2022). stargazer: Well-Formatted Regression and Summary Statistics Tables.\n",
      "\n",
      " R package version 5.2.3. https://CRAN.R-project.org/package=stargazer \n",
      "\n",
      "\n",
      "Warning message:\n",
      "\"package 'kableExtra' was built under R version 4.4.2\"\n",
      "\n",
      "Attaching package: 'kableExtra'\n",
      "\n",
      "\n",
      "The following object is masked from 'package:dplyr':\n",
      "\n",
      "    group_rows\n",
      "\n",
      "\n"
     ]
    }
   ],
   "source": [
    "library(tidyverse)\n",
    "library(ggplot2)\n",
    "library(haven)\n",
    "library(stargazer)\n",
    "library(broom)\n",
    "library(knitr)\n",
    "library(kableExtra)"
   ]
  },
  {
   "cell_type": "code",
   "execution_count": 2,
   "metadata": {
    "vscode": {
     "languageId": "r"
    }
   },
   "outputs": [
    {
     "name": "stdout",
     "output_type": "stream",
     "text": [
      "Rows: 980,868\n",
      "Columns: 128\n",
      "$ ppsort           \u001b[3m\u001b[90m<dbl>\u001b[39m\u001b[23m 1, 2, 3, 4, 5, 6, 7, 8, 9, 10, 11, 12, 13, 14, 15, 16…\n",
      "$ aboid            \u001b[3m\u001b[90m<dbl+lbl>\u001b[39m\u001b[23m 6, 6, 1, 6, 6, 2, 6, 6, 6, 6, 6, 6, 6, 6, 6, 6, 6…\n",
      "$ agegrp           \u001b[3m\u001b[90m<dbl+lbl>\u001b[39m\u001b[23m 13, 11, 13, 16, 18, 16, 16, 16, 11, 12, 16, 13, 1…\n",
      "$ ageimm           \u001b[3m\u001b[90m<dbl+lbl>\u001b[39m\u001b[23m  7,  5, 99, 99, 99, 99, 99,  7, 99,  6, 99, 99,  …\n",
      "$ attsch           \u001b[3m\u001b[90m<dbl+lbl>\u001b[39m\u001b[23m 1, 1, 1, 1, 1, 1, 1, 1, 1, 1, 1, 1, 1, 1, 9, 2, 2…\n",
      "$ bfnmemb          \u001b[3m\u001b[90m<dbl+lbl>\u001b[39m\u001b[23m 0, 0, 0, 0, 0, 0, 0, 0, 0, 0, 0, 0, 0, 0, 0, 0, 0…\n",
      "$ bedrm            \u001b[3m\u001b[90m<dbl+lbl>\u001b[39m\u001b[23m 4, 3, 0, 4, 3, 4, 3, 4, 4, 4, 1, 4, 5, 2, 2, 2, 3…\n",
      "$ CFInc            \u001b[3m\u001b[90m<dbl+lbl>\u001b[39m\u001b[23m 30, 18,  7, 15, 13,  1, 10, 30, 25, 22,  9, 33, 2…\n",
      "$ CFInc_AT         \u001b[3m\u001b[90m<dbl+lbl>\u001b[39m\u001b[23m 27, 18,  7, 15, 13,  1, 10, 27, 24, 22,  9, 32, 2…\n",
      "$ cfstat           \u001b[3m\u001b[90m<dbl+lbl>\u001b[39m\u001b[23m 2, 2, 6, 2, 3, 7, 1, 1, 2, 2, 1, 2, 2, 1, 5, 5, 5…\n",
      "$ chdbn            \u001b[3m\u001b[90m<dbl>\u001b[39m\u001b[23m 88888888, 11500, 99999999, 99999999, 99999999, 999999…\n",
      "$ CIP2021          \u001b[3m\u001b[90m<dbl+lbl>\u001b[39m\u001b[23m  7,  8, 13, 10, 13, 13,  4,  4, 88, 13,  7,  5, 1…\n",
      "$ CIP2021_STEM_SUM \u001b[3m\u001b[90m<dbl+lbl>\u001b[39m\u001b[23m  3,  2, 11,  8, 11, 11,  6,  6, 88, 11,  3,  4, 1…\n",
      "$ cma              \u001b[3m\u001b[90m<dbl+lbl>\u001b[39m\u001b[23m 999, 505, 462, 999, 999, 999, 999, 535, 541, 559,…\n",
      "$ condo            \u001b[3m\u001b[90m<dbl+lbl>\u001b[39m\u001b[23m 0, 0, 0, 8, 0, 0, 0, 1, 0, 0, 0, 0, 0, 1, 0, 0, 0…\n",
      "$ COVID_ERB        \u001b[3m\u001b[90m<dbl>\u001b[39m\u001b[23m 99999999, 8100, 99999999, 99999999, 99999999, 9999999…\n",
      "$ cow              \u001b[3m\u001b[90m<dbl+lbl>\u001b[39m\u001b[23m 1, 3, 9, 9, 9, 9, 9, 9, 1, 4, 9, 1, 1, 5, 9, 9, 1…\n",
      "$ cqppb            \u001b[3m\u001b[90m<dbl>\u001b[39m\u001b[23m 99999999, 99999999, 99999999, 15000, 4100, 99999999, …\n",
      "$ CapGn            \u001b[3m\u001b[90m<dbl>\u001b[39m\u001b[23m 1.0e+08, 1.0e+08, 1.0e+08, 1.0e+08, 1.0e+08, 1.0e+08,…\n",
      "$ CfSize           \u001b[3m\u001b[90m<dbl+lbl>\u001b[39m\u001b[23m 4, 4, 1, 3, 2, 1, 2, 2, 6, 4, 2, 4, 3, 2, 3, 2, 3…\n",
      "$ ChldC            \u001b[3m\u001b[90m<dbl>\u001b[39m\u001b[23m 88888888, 99999999, 99999999, 99999999, 99999999, 999…\n",
      "$ CitOth           \u001b[3m\u001b[90m<dbl+lbl>\u001b[39m\u001b[23m 88, 15, 15, 88, 15, 15, 15,  4, 15,  4, 15, 15,  …\n",
      "$ Citizen          \u001b[3m\u001b[90m<dbl+lbl>\u001b[39m\u001b[23m 3, 2, 1, 1, 1, 1, 1, 2, 1, 2, 1, 1, 2, 1, 1, 1, 1…\n",
      "$ dist             \u001b[3m\u001b[90m<dbl+lbl>\u001b[39m\u001b[23m 9, 9, 9, 9, 9, 9, 9, 9, 4, 9, 9, 2, 1, 1, 9, 9, 6…\n",
      "$ dpgrsum          \u001b[3m\u001b[90m<dbl+lbl>\u001b[39m\u001b[23m 88,  2, 14, 88,  1, 14,  1,  1,  1,  1,  1,  1,  …\n",
      "$ dtype            \u001b[3m\u001b[90m<dbl+lbl>\u001b[39m\u001b[23m 1, 1, 2, 8, 1, 1, 1, 3, 1, 1, 2, 1, 1, 2, 2, 2, 1…\n",
      "$ EFDecile         \u001b[3m\u001b[90m<dbl+lbl>\u001b[39m\u001b[23m  9,  3,  1,  5,  2,  1,  1,  9,  4,  4,  1, 10,  …\n",
      "$ EFInc            \u001b[3m\u001b[90m<dbl+lbl>\u001b[39m\u001b[23m 33, 18,  7, 26, 13,  1, 10, 30, 25, 22,  9, 33, 2…\n",
      "$ EFInc_AT         \u001b[3m\u001b[90m<dbl+lbl>\u001b[39m\u001b[23m 31, 18,  7, 25, 13,  1, 10, 27, 24, 22,  9, 32, 2…\n",
      "$ eicbn            \u001b[3m\u001b[90m<dbl>\u001b[39m\u001b[23m 1e+08, 1e+08, 1e+08, 1e+08, 1e+08, 1e+08, 1e+08, 1e+0…\n",
      "$ ethder           \u001b[3m\u001b[90m<dbl+lbl>\u001b[39m\u001b[23m 88, 41,  1, 88,  3,  1, 59, 23, 59, 27,  5,  3, 3…\n",
      "$ EfDIMBM_2018     \u001b[3m\u001b[90m<dbl+lbl>\u001b[39m\u001b[23m 31, 18,  7, 25, 12,  1, 11, 28, 24, 22,  9, 32, 2…\n",
      "$ EfSize           \u001b[3m\u001b[90m<dbl+lbl>\u001b[39m\u001b[23m 6, 4, 1, 5, 2, 1, 2, 2, 6, 4, 2, 4, 3, 2, 3, 2, 3…\n",
      "$ EmpIn            \u001b[3m\u001b[90m<dbl>\u001b[39m\u001b[23m 7.6e+04, 1.2e+04, 1.0e+08, 1.0e+08, 1.0e+08, 1.0e+08,…\n",
      "$ fol              \u001b[3m\u001b[90m<dbl+lbl>\u001b[39m\u001b[23m 1, 1, 2, 1, 2, 1, 1, 1, 1, 1, 2, 1, 2, 2, 1, 1, 2…\n",
      "$ fptwk            \u001b[3m\u001b[90m<dbl+lbl>\u001b[39m\u001b[23m 1, 2, 9, 9, 9, 9, 9, 9, 1, 9, 9, 1, 1, 1, 9, 9, 2…\n",
      "$ Gender           \u001b[3m\u001b[90m<dbl+lbl>\u001b[39m\u001b[23m 2, 1, 1, 2, 2, 1, 1, 1, 2, 2, 2, 1, 2, 2, 1, 1, 1…\n",
      "$ genstat          \u001b[3m\u001b[90m<dbl+lbl>\u001b[39m\u001b[23m 8, 1, 4, 4, 4, 4, 4, 1, 3, 1, 4, 4, 1, 4, 4, 2, 4…\n",
      "$ GovtI            \u001b[3m\u001b[90m<dbl>\u001b[39m\u001b[23m 99999999, 9000, 16300, 1300, 2000, 1000, 900, 9999999…\n",
      "$ GTRfs            \u001b[3m\u001b[90m<dbl>\u001b[39m\u001b[23m 99999999, 20500, 16300, 16400, 22500, 1000, 4200, 460…\n",
      "$ HCORENEED_IND    \u001b[3m\u001b[90m<dbl+lbl>\u001b[39m\u001b[23m   0,   0, 100,   0,   0, 888, 100,   0,   0,   0,…\n",
      "$ hdgree           \u001b[3m\u001b[90m<dbl+lbl>\u001b[39m\u001b[23m  7,  7,  2,  5,  2,  2,  9, 12,  6,  2,  6,  9,  …\n",
      "$ HHInc            \u001b[3m\u001b[90m<dbl+lbl>\u001b[39m\u001b[23m 33, 18,  7, 26, 13, 25, 10, 30, 25, 22,  9, 33, 2…\n",
      "$ HHInc_AT         \u001b[3m\u001b[90m<dbl+lbl>\u001b[39m\u001b[23m 31, 18,  7, 25, 13, 22, 10, 27, 24, 22,  9, 32, 2…\n",
      "$ hhmrkinc         \u001b[3m\u001b[90m<dbl+lbl>\u001b[39m\u001b[23m 33, 14,  1, 19,  8, 20,  2, 30, 12, 20,  1, 33, 2…\n",
      "$ hhsize           \u001b[3m\u001b[90m<dbl+lbl>\u001b[39m\u001b[23m 6, 4, 1, 5, 2, 3, 2, 2, 6, 4, 2, 4, 3, 2, 3, 2, 3…\n",
      "$ hhtype           \u001b[3m\u001b[90m<dbl+lbl>\u001b[39m\u001b[23m 7, 2, 8, 7, 5, 3, 1, 1, 2, 2, 1, 2, 2, 1, 5, 5, 5…\n",
      "$ hlmosten         \u001b[3m\u001b[90m<dbl+lbl>\u001b[39m\u001b[23m 1, 1, 0, 1, 0, 1, 1, 0, 1, 1, 0, 1, 0, 0, 1, 1, 0…\n",
      "$ hlmostfr         \u001b[3m\u001b[90m<dbl+lbl>\u001b[39m\u001b[23m 0, 0, 1, 0, 1, 0, 0, 0, 0, 0, 1, 0, 0, 1, 0, 0, 1…\n",
      "$ hlmostno         \u001b[3m\u001b[90m<dbl+lbl>\u001b[39m\u001b[23m  1,  1,  1,  1,  1,  1,  1,  8,  1,  1,  1,  1,  …\n",
      "$ hlregen          \u001b[3m\u001b[90m<dbl+lbl>\u001b[39m\u001b[23m 0, 0, 0, 0, 0, 0, 0, 1, 0, 0, 0, 0, 0, 0, 0, 0, 0…\n",
      "$ hlregfr          \u001b[3m\u001b[90m<dbl+lbl>\u001b[39m\u001b[23m 0, 0, 0, 0, 0, 0, 0, 0, 0, 0, 0, 0, 1, 0, 0, 0, 0…\n",
      "$ hlregno          \u001b[3m\u001b[90m<dbl+lbl>\u001b[39m\u001b[23m 0, 0, 0, 0, 0, 0, 0, 0, 0, 1, 0, 0, 0, 0, 0, 0, 0…\n",
      "$ IMMCAT5          \u001b[3m\u001b[90m<dbl+lbl>\u001b[39m\u001b[23m 88, 22,  1,  1,  1,  1,  1, 22,  1, 21,  1,  1, 2…\n",
      "$ immstat          \u001b[3m\u001b[90m<dbl+lbl>\u001b[39m\u001b[23m 88,  2,  1,  1,  1,  1,  1,  2,  1,  2,  1,  1,  …\n",
      "$ IncTax           \u001b[3m\u001b[90m<dbl>\u001b[39m\u001b[23m 1.9e+04, 1.0e+03, 1.0e+08, 1.0e+00, 1.0e+08, 1.0e+08,…\n",
      "$ Invst            \u001b[3m\u001b[90m<dbl>\u001b[39m\u001b[23m 99999999, 99999999, 99999999, 99999999, 99999999, 999…\n",
      "$ jobperm          \u001b[3m\u001b[90m<dbl+lbl>\u001b[39m\u001b[23m 2, 1, 9, 9, 9, 9, 9, 9, 2, 1, 9, 2, 2, 1, 9, 9, 2…\n",
      "$ kol              \u001b[3m\u001b[90m<dbl+lbl>\u001b[39m\u001b[23m 1, 1, 2, 1, 2, 1, 1, 1, 1, 1, 3, 1, 2, 2, 1, 3, 3…\n",
      "$ lfact            \u001b[3m\u001b[90m<dbl+lbl>\u001b[39m\u001b[23m 88,  3, 14, 13, 13, 13, 14, 13,  1,  1, 13,  1,  …\n",
      "$ LICO_BT          \u001b[3m\u001b[90m<dbl+lbl>\u001b[39m\u001b[23m 1, 1, 2, 1, 1, 2, 1, 1, 1, 1, 2, 1, 1, 1, 2, 1, 1…\n",
      "$ LICO_AT          \u001b[3m\u001b[90m<dbl+lbl>\u001b[39m\u001b[23m 1, 1, 2, 1, 1, 2, 1, 1, 1, 1, 2, 1, 1, 1, 2, 1, 1…\n",
      "$ liprogtype       \u001b[3m\u001b[90m<dbl+lbl>\u001b[39m\u001b[23m 4, 4, 9, 4, 9, 4, 4, 4, 4, 4, 9, 4, 9, 9, 4, 2, 9…\n",
      "$ LI_ELIG_OML_U18  \u001b[3m\u001b[90m<dbl+lbl>\u001b[39m\u001b[23m 9, 9, 9, 9, 9, 9, 9, 9, 9, 9, 9, 9, 9, 9, 2, 2, 2…\n",
      "$ locstud          \u001b[3m\u001b[90m<dbl+lbl>\u001b[39m\u001b[23m 17, 16, 99,  9, 99, 99,  6, 14,  6, 99,  5,  6, 9…\n",
      "$ LOC_ST_RES       \u001b[3m\u001b[90m<dbl+lbl>\u001b[39m\u001b[23m 3, 3, 4, 1, 4, 4, 2, 3, 1, 4, 1, 1, 4, 4, 9, 4, 4…\n",
      "$ lstwrk           \u001b[3m\u001b[90m<dbl+lbl>\u001b[39m\u001b[23m 8, 3, 4, 1, 1, 1, 4, 1, 3, 3, 1, 3, 3, 3, 9, 4, 3…\n",
      "$ lwmosten         \u001b[3m\u001b[90m<dbl+lbl>\u001b[39m\u001b[23m 1, 1, 9, 9, 9, 9, 9, 9, 1, 1, 9, 1, 0, 0, 9, 9, 0…\n",
      "$ lwmostfr         \u001b[3m\u001b[90m<dbl+lbl>\u001b[39m\u001b[23m 0, 0, 9, 9, 9, 9, 9, 9, 0, 0, 9, 0, 1, 1, 9, 9, 1…\n",
      "$ lwmostno         \u001b[3m\u001b[90m<dbl+lbl>\u001b[39m\u001b[23m 0, 0, 9, 9, 9, 9, 9, 9, 0, 0, 9, 0, 0, 0, 9, 9, 0…\n",
      "$ lwregen          \u001b[3m\u001b[90m<dbl+lbl>\u001b[39m\u001b[23m 0, 0, 9, 9, 9, 9, 9, 9, 0, 0, 9, 0, 0, 0, 9, 9, 0…\n",
      "$ lwregfr          \u001b[3m\u001b[90m<dbl+lbl>\u001b[39m\u001b[23m 0, 0, 9, 9, 9, 9, 9, 9, 0, 0, 9, 0, 0, 0, 9, 9, 0…\n",
      "$ lwregno          \u001b[3m\u001b[90m<dbl+lbl>\u001b[39m\u001b[23m 0, 0, 9, 9, 9, 9, 9, 9, 0, 0, 9, 0, 0, 0, 9, 9, 0…\n",
      "$ LoLIMA           \u001b[3m\u001b[90m<dbl+lbl>\u001b[39m\u001b[23m 1, 1, 2, 1, 1, 1, 2, 1, 1, 1, 2, 1, 1, 1, 2, 1, 1…\n",
      "$ LoLIMB           \u001b[3m\u001b[90m<dbl+lbl>\u001b[39m\u001b[23m 1, 1, 2, 1, 2, 1, 2, 1, 1, 1, 2, 1, 1, 1, 2, 1, 1…\n",
      "$ LOMBM_2018       \u001b[3m\u001b[90m<dbl+lbl>\u001b[39m\u001b[23m 1, 1, 2, 1, 1, 2, 2, 1, 1, 1, 2, 1, 1, 1, 2, 1, 1…\n",
      "$ mode             \u001b[3m\u001b[90m<dbl+lbl>\u001b[39m\u001b[23m 9, 9, 9, 9, 9, 9, 9, 9, 2, 9, 9, 2, 2, 2, 9, 9, 5…\n",
      "$ MTNEn            \u001b[3m\u001b[90m<dbl+lbl>\u001b[39m\u001b[23m 1, 0, 0, 1, 0, 1, 1, 0, 1, 0, 0, 1, 0, 0, 1, 1, 0…\n",
      "$ MTNFr            \u001b[3m\u001b[90m<dbl+lbl>\u001b[39m\u001b[23m 0, 0, 1, 0, 1, 0, 0, 0, 0, 0, 1, 0, 0, 1, 0, 0, 1…\n",
      "$ mtnno            \u001b[3m\u001b[90m<dbl+lbl>\u001b[39m\u001b[23m  1, 26,  1,  1,  1,  1,  1, 14,  1, 21,  1,  1, 1…\n",
      "$ marsth           \u001b[3m\u001b[90m<dbl+lbl>\u001b[39m\u001b[23m 2, 2, 1, 2, 5, 6, 2, 2, 2, 2, 3, 2, 2, 2, 1, 1, 1…\n",
      "$ Mob1             \u001b[3m\u001b[90m<dbl+lbl>\u001b[39m\u001b[23m 8, 1, 4, 1, 1, 1, 1, 1, 1, 1, 1, 1, 1, 1, 2, 1, 1…\n",
      "$ Mob5             \u001b[3m\u001b[90m<dbl+lbl>\u001b[39m\u001b[23m 6, 1, 2, 1, 1, 3, 2, 1, 3, 1, 2, 1, 1, 1, 2, 1, 4…\n",
      "$ MrkInc           \u001b[3m\u001b[90m<dbl>\u001b[39m\u001b[23m 7.6e+04, 1.2e+04, 1.0e+08, 7.0e+03, 1.0e+08, 1.0e+08,…\n",
      "$ naics            \u001b[3m\u001b[90m<dbl+lbl>\u001b[39m\u001b[23m  54,  48, 999, 999, 999, 999, 999, 999,  11,  48,…\n",
      "$ NOC21            \u001b[3m\u001b[90m<dbl+lbl>\u001b[39m\u001b[23m 88, 14, 99, 99, 99, 99, 99, 99, 25,  1, 99,  3,  …\n",
      "$ nol              \u001b[3m\u001b[90m<dbl+lbl>\u001b[39m\u001b[23m  1,  1,  1,  1,  1,  1,  1, 10,  1, 26,  1,  1, 1…\n",
      "$ nos              \u001b[3m\u001b[90m<dbl+lbl>\u001b[39m\u001b[23m 1, 1, 1, 1, 1, 1, 1, 1, 1, 1, 1, 1, 1, 1, 1, 1, 1…\n",
      "$ oasgi            \u001b[3m\u001b[90m<dbl>\u001b[39m\u001b[23m 99999999, 99999999, 99999999, 99999999, 16500, 999999…\n",
      "$ OtInc            \u001b[3m\u001b[90m<dbl>\u001b[39m\u001b[23m 1.0e+08, 1.0e+08, 1.0e+08, 1.0e+08, 1.0e+08, 1.0e+08,…\n",
      "$ PKID25           \u001b[3m\u001b[90m<dbl+lbl>\u001b[39m\u001b[23m 8, 0, 9, 0, 1, 9, 0, 0, 0, 0, 0, 0, 1, 0, 0, 0, 0…\n",
      "$ PKID0_1          \u001b[3m\u001b[90m<dbl+lbl>\u001b[39m\u001b[23m 8, 0, 9, 0, 0, 9, 0, 0, 0, 0, 0, 0, 0, 0, 0, 0, 0…\n",
      "$ PKID15_24        \u001b[3m\u001b[90m<dbl+lbl>\u001b[39m\u001b[23m 8, 0, 9, 0, 0, 9, 0, 0, 0, 0, 0, 1, 0, 0, 0, 1, 1…\n",
      "$ PKID2_5          \u001b[3m\u001b[90m<dbl+lbl>\u001b[39m\u001b[23m 8, 0, 9, 0, 0, 9, 0, 0, 1, 0, 0, 0, 0, 0, 1, 0, 0…\n",
      "$ PKID6_14         \u001b[3m\u001b[90m<dbl+lbl>\u001b[39m\u001b[23m 8, 1, 9, 1, 0, 9, 0, 0, 1, 1, 0, 0, 0, 0, 1, 0, 0…\n",
      "$ pkids            \u001b[3m\u001b[90m<dbl+lbl>\u001b[39m\u001b[23m 8, 1, 9, 1, 1, 9, 0, 0, 1, 1, 0, 1, 1, 0, 1, 1, 1…\n",
      "$ pob              \u001b[3m\u001b[90m<dbl+lbl>\u001b[39m\u001b[23m 88, 28,  1,  1,  1,  1,  1, 11,  1, 12,  1,  1,  …\n",
      "$ POBPAR1          \u001b[3m\u001b[90m<dbl+lbl>\u001b[39m\u001b[23m 8, 5, 1, 1, 1, 1, 1, 3, 1, 3, 1, 1, 2, 1, 1, 2, 1…\n",
      "$ POBPAR2          \u001b[3m\u001b[90m<dbl+lbl>\u001b[39m\u001b[23m 8, 5, 1, 1, 1, 1, 1, 3, 3, 3, 1, 1, 2, 1, 1, 2, 1…\n",
      "$ powst            \u001b[3m\u001b[90m<dbl+lbl>\u001b[39m\u001b[23m 9, 9, 9, 9, 9, 9, 9, 9, 6, 1, 9, 6, 4, 4, 9, 9, 5…\n",
      "$ pr               \u001b[3m\u001b[90m<dbl+lbl>\u001b[39m\u001b[23m 10, 35, 24, 48, 24, 59, 10, 35, 35, 35, 24, 35, 2…\n",
      "$ PR1              \u001b[3m\u001b[90m<dbl+lbl>\u001b[39m\u001b[23m 88, 35, 24, 48, 24, 59, 10, 35, 35, 35, 24, 35, 2…\n",
      "$ PR5              \u001b[3m\u001b[90m<dbl+lbl>\u001b[39m\u001b[23m 99, 35, 24, 48, 24, 59, 10, 35, 35, 35, 24, 35, 2…\n",
      "$ presmortg        \u001b[3m\u001b[90m<dbl+lbl>\u001b[39m\u001b[23m 0, 1, 9, 1, 9, 1, 1, 0, 9, 1, 9, 0, 1, 9, 9, 9, 9…\n",
      "$ prihm            \u001b[3m\u001b[90m<dbl+lbl>\u001b[39m\u001b[23m 0, 0, 1, 1, 1, 0, 0, 1, 1, 0, 1, 1, 0, 0, 9, 0, 0…\n",
      "$ pwdur            \u001b[3m\u001b[90m<dbl+lbl>\u001b[39m\u001b[23m 9, 9, 9, 9, 9, 9, 9, 9, 2, 9, 9, 2, 1, 1, 9, 9, 3…\n",
      "$ pwleave          \u001b[3m\u001b[90m<dbl+lbl>\u001b[39m\u001b[23m 9, 9, 9, 9, 9, 9, 9, 9, 2, 9, 9, 5, 3, 2, 9, 9, 5…\n",
      "$ pwocc            \u001b[3m\u001b[90m<dbl+lbl>\u001b[39m\u001b[23m 9, 9, 9, 9, 9, 9, 9, 9, 1, 9, 9, 1, 1, 1, 9, 9, 1…\n",
      "$ pwpr             \u001b[3m\u001b[90m<dbl+lbl>\u001b[39m\u001b[23m 99, 99, 99, 99, 99, 99, 99, 99, 35, 35, 99, 35, 2…\n",
      "$ regind           \u001b[3m\u001b[90m<dbl+lbl>\u001b[39m\u001b[23m 0, 0, 0, 0, 0, 0, 0, 0, 0, 0, 0, 0, 0, 0, 0, 0, 0…\n",
      "$ relig            \u001b[3m\u001b[90m<dbl+lbl>\u001b[39m\u001b[23m 88, 17, 22, 88,  6, 22,  7, 22, 22,  7,  2,  6, 2…\n",
      "$ repair           \u001b[3m\u001b[90m<dbl+lbl>\u001b[39m\u001b[23m 1, 1, 1, 3, 1, 1, 3, 1, 1, 1, 1, 2, 2, 1, 1, 1, 1…\n",
      "$ room             \u001b[3m\u001b[90m<dbl+lbl>\u001b[39m\u001b[23m 10,  4,  1,  9,  5,  9,  8,  6,  8,  6,  4, 11,  …\n",
      "$ Retir            \u001b[3m\u001b[90m<dbl>\u001b[39m\u001b[23m 1.0e+08, 1.0e+08, 1.0e+08, 6.4e+03, 1.0e+08, 1.0e+08,…\n",
      "$ shelco           \u001b[3m\u001b[90m<dbl>\u001b[39m\u001b[23m 700, 1400, 500, 1700, 1200, 1200, 1800, 600, 2800, 16…\n",
      "$ ssgrad           \u001b[3m\u001b[90m<dbl+lbl>\u001b[39m\u001b[23m  6,  6,  4,  6,  4,  4,  8, 11,  6,  4,  6,  8,  …\n",
      "$ subsidy          \u001b[3m\u001b[90m<dbl+lbl>\u001b[39m\u001b[23m 9, 9, 0, 9, 0, 9, 9, 9, 0, 9, 1, 9, 9, 0, 0, 1, 0…\n",
      "$ SempI            \u001b[3m\u001b[90m<dbl>\u001b[39m\u001b[23m 99999999, 11000, 99999999, 99999999, 99999999, 999999…\n",
      "$ tenur            \u001b[3m\u001b[90m<dbl+lbl>\u001b[39m\u001b[23m 1, 1, 2, 1, 2, 1, 1, 1, 2, 1, 2, 1, 1, 2, 2, 2, 2…\n",
      "$ TotInc           \u001b[3m\u001b[90m<dbl>\u001b[39m\u001b[23m 7.6e+04, 3.2e+04, 1.7e+04, 2.2e+04, 2.2e+04, 1.0e+03,…\n",
      "$ TotInc_AT        \u001b[3m\u001b[90m<dbl>\u001b[39m\u001b[23m 5.7e+04, 3.1e+04, 1.6e+04, 2.2e+04, 2.3e+04, 1.0e+03,…\n",
      "$ vismin           \u001b[3m\u001b[90m<dbl+lbl>\u001b[39m\u001b[23m 88,  2,  1, 88,  1,  1,  1,  1,  1,  1,  1,  1,  …\n",
      "$ Value            \u001b[3m\u001b[90m<dbl>\u001b[39m\u001b[23m 626720, 510000, 99999999, 310000, 99999999, 910000, 1…\n",
      "$ wkswrk           \u001b[3m\u001b[90m<dbl+lbl>\u001b[39m\u001b[23m 8, 5, 9, 9, 9, 9, 9, 9, 2, 0, 9, 6, 6, 6, 9, 9, 6…\n",
      "$ wrkact           \u001b[3m\u001b[90m<dbl+lbl>\u001b[39m\u001b[23m 88, 10,  1,  1,  1,  1,  1,  1,  3,  2,  1, 11, 1…\n",
      "$ Wages            \u001b[3m\u001b[90m<dbl>\u001b[39m\u001b[23m 7.6e+04, 1.0e+08, 1.0e+08, 1.0e+08, 1.0e+08, 1.0e+08,…\n",
      "$ yrim             \u001b[3m\u001b[90m<dbl+lbl>\u001b[39m\u001b[23m 2008, 2005, 9999, 9999, 9999, 9999, 9999,    9, 9…\n",
      "$ weight           \u001b[3m\u001b[90m<dbl>\u001b[39m\u001b[23m 37.04973, 37.03785, 37.05007, 37.01091, 37.05007, 37.…\n"
     ]
    }
   ],
   "source": [
    "# Read in the dataset from relative path\n",
    "census_data <- read_dta(\"../census_2021_indiv_Stata_dta_v2/cen_ind_2021_pumf_v2.dta\")|>\n",
    "    select(ppsort:weight)|>\n",
    "    glimpse()"
   ]
  },
  {
   "cell_type": "markdown",
   "metadata": {},
   "source": [
    "Based on the documentation, we should study the `lfact` to form our dependent variable `is_retired`. Then, I would use the variable `pkids` as the treatment of having one or more kids"
   ]
  },
  {
   "cell_type": "code",
   "execution_count": 3,
   "metadata": {
    "vscode": {
     "languageId": "r"
    }
   },
   "outputs": [
    {
     "data": {
      "text/html": [
       "<table class=\"dataframe\">\n",
       "<caption>A tibble: 2 × 3</caption>\n",
       "<thead>\n",
       "\t<tr><th scope=col>is_retired</th><th scope=col>count</th><th scope=col>prop</th></tr>\n",
       "\t<tr><th scope=col>&lt;dbl&gt;</th><th scope=col>&lt;int&gt;</th><th scope=col>&lt;dbl&gt;</th></tr>\n",
       "</thead>\n",
       "<tbody>\n",
       "\t<tr><td>0</td><td>521117</td><td>0.6368903</td></tr>\n",
       "\t<tr><td>1</td><td>297104</td><td>0.3631097</td></tr>\n",
       "</tbody>\n",
       "</table>\n"
      ],
      "text/latex": [
       "A tibble: 2 × 3\n",
       "\\begin{tabular}{lll}\n",
       " is\\_retired & count & prop\\\\\n",
       " <dbl> & <int> & <dbl>\\\\\n",
       "\\hline\n",
       "\t 0 & 521117 & 0.6368903\\\\\n",
       "\t 1 & 297104 & 0.3631097\\\\\n",
       "\\end{tabular}\n"
      ],
      "text/markdown": [
       "\n",
       "A tibble: 2 × 3\n",
       "\n",
       "| is_retired &lt;dbl&gt; | count &lt;int&gt; | prop &lt;dbl&gt; |\n",
       "|---|---|---|\n",
       "| 0 | 521117 | 0.6368903 |\n",
       "| 1 | 297104 | 0.3631097 |\n",
       "\n"
      ],
      "text/plain": [
       "  is_retired count  prop     \n",
       "1 0          521117 0.6368903\n",
       "2 1          297104 0.3631097"
      ]
     },
     "metadata": {},
     "output_type": "display_data"
    }
   ],
   "source": [
    "# Create the is_retired variable based on labour force status, in which 1 means retired and 0 means not\n",
    "# We typically use the observations claiming they are not in the labour force as being \"retired\"\n",
    "census_data <- census_data|>\n",
    "    filter(! lfact %in% c(88, 99))|>\n",
    "    mutate(is_retired = ifelse((lfact %in% c(11, 12, 13, 14)), 1, 0))\n",
    "\n",
    "census_data|>\n",
    "    group_by(is_retired)|>\n",
    "    summarize(count = n(), prop = count/nrow(census_data))"
   ]
  },
  {
   "cell_type": "code",
   "execution_count": 4,
   "metadata": {
    "vscode": {
     "languageId": "r"
    }
   },
   "outputs": [
    {
     "data": {
      "text/html": [
       "<table class=\"dataframe\">\n",
       "<caption>A tibble: 2 × 3</caption>\n",
       "<thead>\n",
       "\t<tr><th scope=col>pkids</th><th scope=col>count</th><th scope=col>prop</th></tr>\n",
       "\t<tr><th scope=col>&lt;dbl+lbl&gt;</th><th scope=col>&lt;int&gt;</th><th scope=col>&lt;dbl&gt;</th></tr>\n",
       "</thead>\n",
       "<tbody>\n",
       "\t<tr><td>0</td><td>127252</td><td>0.3053972</td></tr>\n",
       "\t<tr><td>1</td><td>289425</td><td>0.6946028</td></tr>\n",
       "</tbody>\n",
       "</table>\n"
      ],
      "text/latex": [
       "A tibble: 2 × 3\n",
       "\\begin{tabular}{lll}\n",
       " pkids & count & prop\\\\\n",
       " <dbl+lbl> & <int> & <dbl>\\\\\n",
       "\\hline\n",
       "\t 0 & 127252 & 0.3053972\\\\\n",
       "\t 1 & 289425 & 0.6946028\\\\\n",
       "\\end{tabular}\n"
      ],
      "text/markdown": [
       "\n",
       "A tibble: 2 × 3\n",
       "\n",
       "| pkids &lt;dbl+lbl&gt; | count &lt;int&gt; | prop &lt;dbl&gt; |\n",
       "|---|---|---|\n",
       "| 0 | 127252 | 0.3053972 |\n",
       "| 1 | 289425 | 0.6946028 |\n",
       "\n"
      ],
      "text/plain": [
       "  pkids count  prop     \n",
       "1 0     127252 0.3053972\n",
       "2 1     289425 0.6946028"
      ]
     },
     "metadata": {},
     "output_type": "display_data"
    }
   ],
   "source": [
    "# Filter the dataset to keep those observations with kids in their household\n",
    "# We would also handle all the covariates here\n",
    "census_data <- census_data|>\n",
    "    filter(!pkids %in% c(8,9))|>\n",
    "    filter(agegrp != 88)|>\n",
    "    filter(marsth != 8)|>\n",
    "    filter(dpgrsum != 88)|>\n",
    "    filter(!hdgree %in% c(88, 99))|>\n",
    "    filter(CFInc_AT != 88)|>\n",
    "    filter(!naics %in% c(888, 999))\n",
    "    \n",
    "\n",
    "# Note that for this variable 1 means with kids and 0 means without kids\n",
    "census_data|>\n",
    "    group_by(pkids)|>\n",
    "    summarize(count = n(), prop = count/nrow(census_data))"
   ]
  },
  {
   "cell_type": "code",
   "execution_count": 5,
   "metadata": {
    "vscode": {
     "languageId": "r"
    }
   },
   "outputs": [
    {
     "data": {
      "text/html": [
       "<table class=\"dataframe\">\n",
       "<caption>A tibble: 4 × 4</caption>\n",
       "<thead>\n",
       "\t<tr><th scope=col>is_retired</th><th scope=col>pkids</th><th scope=col>count</th><th scope=col>group_prop</th></tr>\n",
       "\t<tr><th scope=col>&lt;dbl&gt;</th><th scope=col>&lt;dbl+lbl&gt;</th><th scope=col>&lt;int&gt;</th><th scope=col>&lt;dbl&gt;</th></tr>\n",
       "</thead>\n",
       "<tbody>\n",
       "\t<tr><td>0</td><td>0</td><td>114559</td><td>0.3007193</td></tr>\n",
       "\t<tr><td>0</td><td>1</td><td>266391</td><td>0.6992807</td></tr>\n",
       "\t<tr><td>1</td><td>0</td><td> 12693</td><td>0.3552775</td></tr>\n",
       "\t<tr><td>1</td><td>1</td><td> 23034</td><td>0.6447225</td></tr>\n",
       "</tbody>\n",
       "</table>\n"
      ],
      "text/latex": [
       "A tibble: 4 × 4\n",
       "\\begin{tabular}{llll}\n",
       " is\\_retired & pkids & count & group\\_prop\\\\\n",
       " <dbl> & <dbl+lbl> & <int> & <dbl>\\\\\n",
       "\\hline\n",
       "\t 0 & 0 & 114559 & 0.3007193\\\\\n",
       "\t 0 & 1 & 266391 & 0.6992807\\\\\n",
       "\t 1 & 0 &  12693 & 0.3552775\\\\\n",
       "\t 1 & 1 &  23034 & 0.6447225\\\\\n",
       "\\end{tabular}\n"
      ],
      "text/markdown": [
       "\n",
       "A tibble: 4 × 4\n",
       "\n",
       "| is_retired &lt;dbl&gt; | pkids &lt;dbl+lbl&gt; | count &lt;int&gt; | group_prop &lt;dbl&gt; |\n",
       "|---|---|---|---|\n",
       "| 0 | 0 | 114559 | 0.3007193 |\n",
       "| 0 | 1 | 266391 | 0.6992807 |\n",
       "| 1 | 0 |  12693 | 0.3552775 |\n",
       "| 1 | 1 |  23034 | 0.6447225 |\n",
       "\n"
      ],
      "text/plain": [
       "  is_retired pkids count  group_prop\n",
       "1 0          0     114559 0.3007193 \n",
       "2 0          1     266391 0.6992807 \n",
       "3 1          0      12693 0.3552775 \n",
       "4 1          1      23034 0.6447225 "
      ]
     },
     "metadata": {},
     "output_type": "display_data"
    },
    {
     "data": {
      "image/png": "[encoded data removed]",
      "text/plain": [
       "plot without title"
      ]
     },
     "metadata": {
      "image/png": {
       "height": 540,
       "width": 960
      }
     },
     "output_type": "display_data"
    }
   ],
   "source": [
    "options(repr.plot.width = 16, repr.plot.height = 9)\n",
    "\n",
    "retirement_kids <- census_data|>\n",
    "    group_by(is_retired, pkids)|>\n",
    "    summarize(count = n(), .groups = \"drop_last\") |>\n",
    "    mutate(group_prop = count / sum(count)) |>\n",
    "    ungroup()\n",
    "\n",
    "retirement_kids_dist <- retirement_kids|>\n",
    "    ggplot(aes(x = factor(is_retired), y = group_prop, fill = factor(pkids))) +\n",
    "    geom_bar(stat = \"identity\", position = \"dodge\") +\n",
    "    labs(\n",
    "        x = \"Retirement Status (1 = Retired)\",\n",
    "        y = \"Proportion\",\n",
    "        fill = \"Has Kid (1 = Yes)\",\n",
    "        title = \"Proportion of People by Retirement Status and Having Kids\"\n",
    "    ) +\n",
    "    scale_fill_grey(start = 0.6, end = 0.9) +\n",
    "    theme_minimal() \n",
    "\n",
    "retirement_kids\n",
    "retirement_kids_dist"
   ]
  },
  {
   "cell_type": "markdown",
   "metadata": {},
   "source": [
    "By the visualization above, we can see the proportion and counts of observations of treatment groups and  is much larger than the other groups. But the proportion of being treated is relatively balanced across groups. This informs us the $B_2$ bias may be small.\n",
    "\n",
    "Let's first try out the baseline model."
   ]
  },
  {
   "cell_type": "code",
   "execution_count": 6,
   "metadata": {
    "vscode": {
     "languageId": "r"
    }
   },
   "outputs": [
    {
     "data": {
      "text/plain": [
       "\n",
       "Call:\n",
       "lm(formula = is_retired ~ pkids, data = census_data)\n",
       "\n",
       "Residuals:\n",
       "     Min       1Q   Median       3Q      Max \n",
       "-0.09975 -0.09975 -0.07959 -0.07959  0.92041 \n",
       "\n",
       "Coefficients:\n",
       "              Estimate Std. Error t value Pr(>|t|)    \n",
       "(Intercept)  0.0997470  0.0007844  127.16   <2e-16 ***\n",
       "pkids       -0.0201616  0.0009412  -21.42   <2e-16 ***\n",
       "---\n",
       "Signif. codes:  0 '***' 0.001 '**' 0.01 '*' 0.05 '.' 0.1 ' ' 1\n",
       "\n",
       "Residual standard error: 0.2798 on 416675 degrees of freedom\n",
       "Multiple R-squared:  0.0011,\tAdjusted R-squared:  0.001098 \n",
       "F-statistic: 458.8 on 1 and 416675 DF,  p-value: < 2.2e-16\n"
      ]
     },
     "metadata": {},
     "output_type": "display_data"
    }
   ],
   "source": [
    "reg0 <- lm(is_retired ~ pkids, data = census_data)\n",
    "\n",
    "summary(reg0)"
   ]
  },
  {
   "cell_type": "markdown",
   "metadata": {},
   "source": [
    "Based on the regression summary above we see the coefficient is nagative--It means the having kids is negatively correlated to being retired. However, would this be caused by OVB and selection bias? We need to look deeper into it. Our first guess is, this must be correlated to gender, age and marital status. \n",
    "\n",
    "Hence, we would include variables such as `Gender`,  `agegrp`, and `marsth`."
   ]
  },
  {
   "cell_type": "code",
   "execution_count": 7,
   "metadata": {
    "vscode": {
     "languageId": "r"
    }
   },
   "outputs": [
    {
     "data": {
      "text/plain": [
       "\n",
       "Call:\n",
       "lm(formula = is_retired ~ pkids + Gender + agegrp + marsth, data = census_data)\n",
       "\n",
       "Residuals:\n",
       "     Min       1Q   Median       3Q      Max \n",
       "-0.13636 -0.10411 -0.08513 -0.06832  1.07170 \n",
       "\n",
       "Coefficients:\n",
       "              Estimate Std. Error t value Pr(>|t|)    \n",
       "(Intercept)  0.1886448  0.0026222  71.941   <2e-16 ***\n",
       "pkids       -0.0313352  0.0009906 -31.631   <2e-16 ***\n",
       "Gender      -0.0165500  0.0008671 -19.087   <2e-16 ***\n",
       "agegrp       0.0015696  0.0001582   9.921   <2e-16 ***\n",
       "marsth      -0.0357913  0.0005538 -64.627   <2e-16 ***\n",
       "---\n",
       "Signif. codes:  0 '***' 0.001 '**' 0.01 '*' 0.05 '.' 0.1 ' ' 1\n",
       "\n",
       "Residual standard error: 0.2784 on 416672 degrees of freedom\n",
       "Multiple R-squared:  0.01164,\tAdjusted R-squared:  0.01163 \n",
       "F-statistic:  1227 on 4 and 416672 DF,  p-value: < 2.2e-16\n"
      ]
     },
     "metadata": {},
     "output_type": "display_data"
    }
   ],
   "source": [
    "reg1 <- lm(is_retired ~ pkids + Gender + agegrp + marsth, data = census_data)\n",
    "\n",
    "summary(reg1)"
   ]
  },
  {
   "cell_type": "markdown",
   "metadata": {},
   "source": [
    "Here, the coefficient remains negative, but it became significantly smaller. \n",
    "\n",
    "To improve the quality of our model, we would take into account other socioeconomic factors, such as the ethnicity, education level, income and job category. In particular, we include the following variables `dpgrsum`, `hdgree`, `CFInc_AT` and `naics`"
   ]
  },
  {
   "cell_type": "code",
   "execution_count": 8,
   "metadata": {
    "vscode": {
     "languageId": "r"
    }
   },
   "outputs": [
    {
     "data": {
      "text/plain": [
       "\n",
       "Call:\n",
       "lm(formula = is_retired ~ pkids + Gender + agegrp + marsth + \n",
       "    dpgrsum + hdgree + CFInc_AT + naics, data = census_data)\n",
       "\n",
       "Residuals:\n",
       "     Min       1Q   Median       3Q      Max \n",
       "-0.26099 -0.11200 -0.07690 -0.04127  1.13542 \n",
       "\n",
       "Coefficients:\n",
       "              Estimate Std. Error t value Pr(>|t|)    \n",
       "(Intercept)  2.637e-01  3.485e-03  75.653   <2e-16 ***\n",
       "pkids       -2.197e-02  1.001e-03 -21.941   <2e-16 ***\n",
       "Gender      -1.654e-02  8.878e-04 -18.627   <2e-16 ***\n",
       "agegrp       2.942e-03  1.581e-04  18.611   <2e-16 ***\n",
       "marsth      -3.649e-02  5.564e-04 -65.597   <2e-16 ***\n",
       "dpgrsum      2.413e-04  1.250e-04   1.931   0.0535 .  \n",
       "hdgree      -7.278e-03  1.266e-04 -57.501   <2e-16 ***\n",
       "CFInc_AT    -3.493e-03  7.778e-05 -44.912   <2e-16 ***\n",
       "naics        5.061e-04  2.381e-05  21.258   <2e-16 ***\n",
       "---\n",
       "Signif. codes:  0 '***' 0.001 '**' 0.01 '*' 0.05 '.' 0.1 ' ' 1\n",
       "\n",
       "Residual standard error: 0.2761 on 416668 degrees of freedom\n",
       "Multiple R-squared:  0.02739,\tAdjusted R-squared:  0.02737 \n",
       "F-statistic:  1467 on 8 and 416668 DF,  p-value: < 2.2e-16\n"
      ]
     },
     "metadata": {},
     "output_type": "display_data"
    }
   ],
   "source": [
    "reg2 = lm(is_retired ~ pkids + Gender + agegrp + marsth + dpgrsum + hdgree + CFInc_AT + naics, data = census_data)\n",
    "\n",
    "summary(reg2)"
   ]
  },
  {
   "cell_type": "markdown",
   "metadata": {},
   "source": [
    "By taking into account various socioeconomic factors, our parameter of interest remain negative. But we still would capture the potential marginal effect introduced by interaction. Therefore, I would add the interaction of `pkids` and `Gender` into the model."
   ]
  },
  {
   "cell_type": "code",
   "execution_count": 9,
   "metadata": {
    "vscode": {
     "languageId": "r"
    }
   },
   "outputs": [
    {
     "data": {
      "text/plain": [
       "\n",
       "Call:\n",
       "lm(formula = is_retired ~ pkids + Gender + pkids:Gender + agegrp + \n",
       "    marsth + dpgrsum + hdgree + CFInc_AT + naics, data = census_data)\n",
       "\n",
       "Residuals:\n",
       "     Min       1Q   Median       3Q      Max \n",
       "-0.26339 -0.11207 -0.07697 -0.04096  1.13855 \n",
       "\n",
       "Coefficients:\n",
       "               Estimate Std. Error t value Pr(>|t|)    \n",
       "(Intercept)   2.474e-01  3.963e-03  62.426  < 2e-16 ***\n",
       "pkids         2.221e-03  2.975e-03   0.747 0.455260    \n",
       "Gender       -5.399e-03  1.566e-03  -3.448 0.000564 ***\n",
       "agegrp        2.911e-03  1.581e-04  18.414  < 2e-16 ***\n",
       "marsth       -3.665e-02  5.566e-04 -65.845  < 2e-16 ***\n",
       "dpgrsum       2.479e-04  1.250e-04   1.983 0.047368 *  \n",
       "hdgree       -7.284e-03  1.266e-04 -57.552  < 2e-16 ***\n",
       "CFInc_AT     -3.483e-03  7.778e-05 -44.774  < 2e-16 ***\n",
       "naics         5.052e-04  2.380e-05  21.222  < 2e-16 ***\n",
       "pkids:Gender -1.607e-02  1.861e-03  -8.636  < 2e-16 ***\n",
       "---\n",
       "Signif. codes:  0 '***' 0.001 '**' 0.01 '*' 0.05 '.' 0.1 ' ' 1\n",
       "\n",
       "Residual standard error: 0.2761 on 416667 degrees of freedom\n",
       "Multiple R-squared:  0.02756,\tAdjusted R-squared:  0.02754 \n",
       "F-statistic:  1312 on 9 and 416667 DF,  p-value: < 2.2e-16\n"
      ]
     },
     "metadata": {},
     "output_type": "display_data"
    }
   ],
   "source": [
    "reg3 = lm(is_retired ~ pkids + Gender + pkids: Gender + agegrp + marsth + dpgrsum + hdgree + CFInc_AT + naics, data = census_data)\n",
    "\n",
    "summary(reg3)"
   ]
  },
  {
   "cell_type": "markdown",
   "metadata": {},
   "source": [
    "To summarize the analysis we made, we form a regression summary table as shown below."
   ]
  },
  {
   "cell_type": "code",
   "execution_count": 12,
   "metadata": {
    "vscode": {
     "languageId": "r"
    }
   },
   "outputs": [
    {
     "name": "stdout",
     "output_type": "stream",
     "text": [
      "\n",
      "Effect of Having Kids on Retirement\n",
      "===========================================================================================================\n",
      "                                                          Dependent variable:                              \n",
      "                            -------------------------------------------------------------------------------\n",
      "                                           Retirement Status (1 = Retired, 0 = Not Retired)                \n",
      "                                  Simple            Demographic        Socioeconomic        Interaction    \n",
      "                                    (1)                 (2)                 (3)                 (4)        \n",
      "-----------------------------------------------------------------------------------------------------------\n",
      "Has Kid (1 = Yes)                -0.020***           -0.031***           -0.022***             0.002       \n",
      "                                  (0.001)             (0.001)             (0.001)             (0.003)      \n",
      "                                                                                                           \n",
      "Gender (1 = Woman, 2 = Man)                          -0.017***           -0.017***           -0.005***     \n",
      "                                                      (0.001)             (0.001)             (0.002)      \n",
      "                                                                                                           \n",
      "Age Group                                            0.002***            0.003***            0.003***      \n",
      "                                                     (0.0002)            (0.0002)            (0.0002)      \n",
      "                                                                                                           \n",
      "Maritual Status                                      -0.036***           -0.036***           -0.037***     \n",
      "                                                      (0.001)             (0.001)             (0.001)      \n",
      "                                                                                                           \n",
      "Ethnicity                                                                 0.0002*            0.0002**      \n",
      "                                                                         (0.0001)            (0.0001)      \n",
      "                                                                                                           \n",
      "Highest Degree                                                           -0.007***           -0.007***     \n",
      "                                                                         (0.0001)            (0.0001)      \n",
      "                                                                                                           \n",
      "Household Income After Tax                                               -0.003***           -0.003***     \n",
      "                                                                         (0.0001)            (0.0001)      \n",
      "                                                                                                           \n",
      "Job Industry                                                             0.001***            0.001***      \n",
      "                                                                         (0.00002)           (0.00002)     \n",
      "                                                                                                           \n",
      "Has Kid x Gender                                                                             -0.016***     \n",
      "                                                                                              (0.002)      \n",
      "                                                                                                           \n",
      "Constant                         0.100***            0.189***            0.264***            0.247***      \n",
      "                                  (0.001)             (0.003)             (0.003)             (0.004)      \n",
      "                                                                                                           \n",
      "-----------------------------------------------------------------------------------------------------------\n",
      "Observations                      416,677             416,677             416,677             416,677      \n",
      "R2                                 0.001               0.012               0.027               0.028       \n",
      "Adjusted R2                        0.001               0.012               0.027               0.028       \n",
      "Residual Std. Error         0.280 (df = 416675) 0.278 (df = 416672) 0.276 (df = 416668) 0.276 (df = 416667)\n",
      "===========================================================================================================\n",
      "Note:                                                                           *p<0.1; **p<0.05; ***p<0.01\n",
      "                                                                          Data Source: Canadian Census 2021\n"
     ]
    }
   ],
   "source": [
    "summary_table <- stargazer(reg0, reg1, reg2, reg3, \n",
    "    type = \"text\", \n",
    "    title = \"Effect of Having Kids on Retirement\",\n",
    "    covariate.labels = c(\"Has Kid (1 = Yes)\",\n",
    "        \"Gender (1 = Woman, 2 = Man)\",\n",
    "        \"Age Group\",\n",
    "        \"Maritual Status\",\n",
    "        \"Ethnicity\",\n",
    "        \"Highest Degree\",\n",
    "        \"Household Income After Tax\",\n",
    "        \"Job Industry\",\n",
    "        \"Has Kid x Gender\"),\n",
    "    dep.var.labels = \"Retirement Status (1 = Retired, 0 = Not Retired)\",\n",
    "    column.labels = c(\"Simple\", \"Demographic\", \"Socioeconomic\", \"Interaction\"),\n",
    "    digits = 3,\n",
    "    omit.stat = \"f\",\n",
    "    notes = \"Data Source: Canadian Census 2021\")"
   ]
  },
  {
   "cell_type": "code",
   "execution_count": 11,
   "metadata": {
    "vscode": {
     "languageId": "r"
    }
   },
   "outputs": [
    {
     "name": "stdout",
     "output_type": "stream",
     "text": [
      "\n",
      "% Table created by stargazer v.5.2.3 by Marek Hlavac, Social Policy Institute. E-mail: marek.hlavac at gmail.com\n",
      "% Date and time: 周三, 3月 12, 2025 - 16:10:05\n",
      "\\begin{table}[!htbp] \\centering \n",
      "  \\caption{Effect of Having Kids on Retirement} \n",
      "  \\label{} \n",
      "\\begin{tabular}{@{\\extracolsep{5pt}}lcccc} \n",
      "\\\\[-1.8ex]\\hline \n",
      "\\hline \\\\[-1.8ex] \n",
      " & \\multicolumn{4}{c}{\\textit{Dependent variable:}} \\\\ \n",
      "\\cline{2-5} \n",
      "\\\\[-1.8ex] & \\multicolumn{4}{c}{Retirement Status (1 = Retired, 0 = Not Retired)} \\\\ \n",
      " & Simple & Demographic & Socioeconomic & Interaction \\\\ \n",
      "\\\\[-1.8ex] & (1) & (2) & (3) & (4)\\\\ \n",
      "\\hline \\\\[-1.8ex] \n",
      " Has Kid (1 = Yes) & $-$0.020$^{***}$ & $-$0.031$^{***}$ & $-$0.022$^{***}$ & 0.002 \\\\ \n",
      "  & (0.001) & (0.001) & (0.001) & (0.003) \\\\ \n",
      "  & & & & \\\\ \n",
      " Gender (1 = Woman, 2 = Man) &  & $-$0.017$^{***}$ & $-$0.017$^{***}$ & $-$0.005$^{***}$ \\\\ \n",
      "  &  & (0.001) & (0.001) & (0.002) \\\\ \n",
      "  & & & & \\\\ \n",
      " Age Group &  & 0.002$^{***}$ & 0.003$^{***}$ & 0.003$^{***}$ \\\\ \n",
      "  &  & (0.0002) & (0.0002) & (0.0002) \\\\ \n",
      "  & & & & \\\\ \n",
      " Maritual Status &  & $-$0.036$^{***}$ & $-$0.036$^{***}$ & $-$0.037$^{***}$ \\\\ \n",
      "  &  & (0.001) & (0.001) & (0.001) \\\\ \n",
      "  & & & & \\\\ \n",
      " Ethnicity &  &  & 0.0002$^{*}$ & 0.0002$^{**}$ \\\\ \n",
      "  &  &  & (0.0001) & (0.0001) \\\\ \n",
      "  & & & & \\\\ \n",
      " Highest Degree &  &  & $-$0.007$^{***}$ & $-$0.007$^{***}$ \\\\ \n",
      "  &  &  & (0.0001) & (0.0001) \\\\ \n",
      "  & & & & \\\\ \n",
      " Household Income After Tax &  &  & $-$0.003$^{***}$ & $-$0.003$^{***}$ \\\\ \n",
      "  &  &  & (0.0001) & (0.0001) \\\\ \n",
      "  & & & & \\\\ \n",
      " Job Industry &  &  & 0.001$^{***}$ & 0.001$^{***}$ \\\\ \n",
      "  &  &  & (0.00002) & (0.00002) \\\\ \n",
      "  & & & & \\\\ \n",
      " Has Kid x Gender &  &  &  & $-$0.016$^{***}$ \\\\ \n",
      "  &  &  &  & (0.002) \\\\ \n",
      "  & & & & \\\\ \n",
      " Constant & 0.100$^{***}$ & 0.189$^{***}$ & 0.264$^{***}$ & 0.247$^{***}$ \\\\ \n",
      "  & (0.001) & (0.003) & (0.003) & (0.004) \\\\ \n",
      "  & & & & \\\\ \n",
      "\\hline \\\\[-1.8ex] \n",
      "Observations & 416,677 & 416,677 & 416,677 & 416,677 \\\\ \n",
      "R$^{2}$ & 0.001 & 0.012 & 0.027 & 0.028 \\\\ \n",
      "Adjusted R$^{2}$ & 0.001 & 0.012 & 0.027 & 0.028 \\\\ \n",
      "Residual Std. Error & 0.280 (df = 416675) & 0.278 (df = 416672) & 0.276 (df = 416668) & 0.276 (df = 416667) \\\\ \n",
      "\\hline \n",
      "\\hline \\\\[-1.8ex] \n",
      "\\textit{Note:}  & \\multicolumn{4}{r}{$^{*}$p$<$0.1; $^{**}$p$<$0.05; $^{***}$p$<$0.01} \\\\ \n",
      " & \\multicolumn{4}{r}{Data Source: Canadian Census 2021} \\\\ \n",
      "\\end{tabular} \n",
      "\\end{table} \n"
     ]
    }
   ],
   "source": [
    "summary_table <- stargazer(reg0, reg1, reg2, reg3, \n",
    "    type = \"latex\", \n",
    "    title = \"Effect of Having Kids on Retirement\",\n",
    "    covariate.labels = c(\"Has Kid (1 = Yes)\",\n",
    "        \"Gender (1 = Woman, 2 = Man)\",\n",
    "        \"Age Group\",\n",
    "        \"Maritual Status\",\n",
    "        \"Ethnicity\",\n",
    "        \"Highest Degree\",\n",
    "        \"Household Income After Tax\",\n",
    "        \"Job Industry\",\n",
    "        \"Has Kid x Gender\"),\n",
    "    dep.var.labels = \"Retirement Status (1 = Retired, 0 = Not Retired)\",\n",
    "    column.labels = c(\"Simple\", \"Demographic\", \"Socioeconomic\", \"Interaction\"),\n",
    "    digits = 3,\n",
    "    omit.stat = \"f\",\n",
    "    notes = \"Data Source: Canadian Census 2021\")"
   ]
  },
  {
   "cell_type": "code",
   "execution_count": null,
   "metadata": {
    "vscode": {
     "languageId": "r"
    }
   },
   "outputs": [],
   "source": []
  }
 ],
 "metadata": {
  "kernelspec": {
   "display_name": "R",
   "language": "R",
   "name": "ir"
  },
  "language_info": {
   "codemirror_mode": "r",
   "file_extension": ".r",
   "mimetype": "text/x-r-source",
   "name": "R",
   "pygments_lexer": "r",
   "version": "4.4.1"
  }
 },
 "nbformat": 4,
 "nbformat_minor": 2
}
